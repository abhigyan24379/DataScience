{
 "cells": [
  {
   "cell_type": "code",
   "execution_count": 5,
   "id": "831bebbb",
   "metadata": {},
   "outputs": [
    {
     "name": "stdout",
     "output_type": "stream",
     "text": [
      "creating new Student in db \n",
      "<__main__.Student object at 0x0000024B1FA6A510>\n",
      "verman\n"
     ]
    }
   ],
   "source": [
    "class Student:\n",
    "    name = 'Karan'\n",
    "    \n",
    "    def __init__(self, fullname):  # this is a constructor\n",
    "        self.name = fullname\n",
    "        print(\"creating new Student in db \")\n",
    "    \n",
    "s1 = Student(\"verman\") # object \n",
    "print(s1)\n",
    "print(s1.name)"
   ]
  },
  {
   "cell_type": "code",
   "execution_count": null,
   "id": "e41a1b0a",
   "metadata": {},
   "outputs": [
    {
     "data": {
      "text/plain": [
       "'blue'"
      ]
     },
     "execution_count": 3,
     "metadata": {},
     "output_type": "execute_result"
    }
   ],
   "source": [
    "class Car:\n",
    "    color = 'blue'\n",
    "    model = 'mercedes' \n",
    "    \n",
    "car1 = Car()\n",
    "car1.color"
   ]
  },
  {
   "cell_type": "code",
   "execution_count": null,
   "id": "9552e293",
   "metadata": {},
   "outputs": [],
   "source": []
  }
 ],
 "metadata": {
  "kernelspec": {
   "display_name": ".venv",
   "language": "python",
   "name": "python3"
  },
  "language_info": {
   "codemirror_mode": {
    "name": "ipython",
    "version": 3
   },
   "file_extension": ".py",
   "mimetype": "text/x-python",
   "name": "python",
   "nbconvert_exporter": "python",
   "pygments_lexer": "ipython3",
   "version": "3.13.5"
  }
 },
 "nbformat": 4,
 "nbformat_minor": 5
}
