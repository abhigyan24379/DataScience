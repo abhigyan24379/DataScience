{
 "cells": [
  {
   "cell_type": "code",
   "execution_count": null,
   "id": "69bd7eaf",
   "metadata": {},
   "outputs": [],
   "source": [
    "import pandas as pd \n",
    "import numpy as np\n",
    "\n",
    "# uS,^L'wTSz!9RTN"
   ]
  },
  {
   "cell_type": "code",
   "execution_count": 3,
   "id": "d920867c",
   "metadata": {},
   "outputs": [
    {
     "data": {
      "application/vnd.microsoft.datawrangler.viewer.v0+json": {
       "columns": [
        {
         "name": "index",
         "rawType": "int64",
         "type": "integer"
        },
        {
         "name": "0",
         "rawType": "int64",
         "type": "integer"
        }
       ],
       "ref": "f6d20066-ddd8-4445-828b-f1e31c05781c",
       "rows": [
        [
         "0",
         "78"
        ],
        [
         "1",
         "92"
        ],
        [
         "2",
         "36"
        ],
        [
         "3",
         "64"
        ],
        [
         "4",
         "89"
        ]
       ],
       "shape": {
        "columns": 1,
        "rows": 5
       }
      },
      "text/plain": [
       "0    78\n",
       "1    92\n",
       "2    36\n",
       "3    64\n",
       "4    89\n",
       "dtype: int64"
      ]
     },
     "execution_count": 3,
     "metadata": {},
     "output_type": "execute_result"
    }
   ],
   "source": [
    "series = pd.Series(data = [78, 92, 36, 64, 89])  \n",
    "series\n"
   ]
  },
  {
   "cell_type": "code",
   "execution_count": 8,
   "id": "fc94979f",
   "metadata": {},
   "outputs": [
    {
     "name": "stdout",
     "output_type": "stream",
     "text": [
      "[78 92 36 64 89]\n"
     ]
    },
    {
     "data": {
      "application/vnd.microsoft.datawrangler.viewer.v0+json": {
       "columns": [
        {
         "name": "index",
         "rawType": "int64",
         "type": "integer"
        },
        {
         "name": "0",
         "rawType": "int64",
         "type": "integer"
        }
       ],
       "ref": "7ba080ab-35d0-47c6-8931-e0710b6cff4a",
       "rows": [
        [
         "1",
         "92"
        ],
        [
         "2",
         "36"
        ]
       ],
       "shape": {
        "columns": 1,
        "rows": 2
       }
      },
      "text/plain": [
       "1    92\n",
       "2    36\n",
       "dtype: int64"
      ]
     },
     "execution_count": 8,
     "metadata": {},
     "output_type": "execute_result"
    }
   ],
   "source": [
    "print(series.values)\n",
    "series[1:3]"
   ]
  },
  {
   "cell_type": "code",
   "execution_count": 10,
   "id": "d7643d47",
   "metadata": {},
   "outputs": [
    {
     "data": {
      "application/vnd.microsoft.datawrangler.viewer.v0+json": {
       "columns": [
        {
         "name": "index",
         "rawType": "object",
         "type": "string"
        },
        {
         "name": "0",
         "rawType": "int64",
         "type": "integer"
        }
       ],
       "ref": "af4deb2b-d5f9-4bc2-b367-f7d6f60b7d76",
       "rows": [
        [
         "Swift",
         "700000"
        ],
        [
         "Jazz",
         "800000"
        ],
        [
         "Civic",
         "1600000"
        ],
        [
         "Altis",
         "1800000"
        ],
        [
         "Gallardo",
         "30000000"
        ]
       ],
       "shape": {
        "columns": 1,
        "rows": 5
       }
      },
      "text/plain": [
       "Swift         700000\n",
       "Jazz          800000\n",
       "Civic        1600000\n",
       "Altis        1800000\n",
       "Gallardo    30000000\n",
       "dtype: int64"
      ]
     },
     "execution_count": 10,
     "metadata": {},
     "output_type": "execute_result"
    }
   ],
   "source": [
    "# data = pd.Series(data =[700000, 800000, 250000, 560000, 100000], index=[\"A\", \"B\", \"C\", \"D\", \"E\"])\n",
    "data = pd.Series(data = [700000, 800000, 1600000, 1800000, 30000000], index = ['Swift', 'Jazz', 'Civic', 'Altis', 'Gallardo'])\n",
    "data\n"
   ]
  },
  {
   "cell_type": "code",
   "execution_count": 12,
   "id": "5560799a",
   "metadata": {},
   "outputs": [
    {
     "data": {
      "application/vnd.microsoft.datawrangler.viewer.v0+json": {
       "columns": [
        {
         "name": "index",
         "rawType": "object",
         "type": "string"
        },
        {
         "name": "0",
         "rawType": "int64",
         "type": "integer"
        }
       ],
       "ref": "6cb59b78-9e3a-43a6-8aad-e84f824d2440",
       "rows": [
        [
         "Swift",
         "700000"
        ],
        [
         "Jazz",
         "800000"
        ],
        [
         "Civic",
         "1600000"
        ],
        [
         "Altis",
         "1800000"
        ],
        [
         "Gallardo",
         "30000000"
        ]
       ],
       "shape": {
        "columns": 1,
        "rows": 5
       }
      },
      "text/plain": [
       "Swift         700000\n",
       "Jazz          800000\n",
       "Civic        1600000\n",
       "Altis        1800000\n",
       "Gallardo    30000000\n",
       "dtype: int64"
      ]
     },
     "execution_count": 12,
     "metadata": {},
     "output_type": "execute_result"
    }
   ],
   "source": [
    "#Using dictionary to create a series\n",
    "car_price_dict = {'Swift':  700000,\n",
    "                       'Jazz' :  800000,\n",
    "                       'Civic' : 1600000,\n",
    "                       'Altis' : 1800000,\n",
    "                       'Gallardo': 30000000\n",
    "                      }\n",
    "\n",
    "# what we did here is that we first crewated a dictionary and than we passed it to the pd.series function\n",
    "car_price = pd.Series(car_price_dict)\n",
    "car_price\n"
   ]
  },
  {
   "cell_type": "code",
   "execution_count": 18,
   "id": "0dc9ce39",
   "metadata": {},
   "outputs": [
    {
     "data": {
      "application/vnd.microsoft.datawrangler.viewer.v0+json": {
       "columns": [
        {
         "name": "index",
         "rawType": "int64",
         "type": "integer"
        },
        {
         "name": "gender",
         "rawType": "object",
         "type": "string"
        },
        {
         "name": "situation",
         "rawType": "int64",
         "type": "integer"
        },
        {
         "name": "tea",
         "rawType": "int64",
         "type": "integer"
        },
        {
         "name": "coffee",
         "rawType": "int64",
         "type": "integer"
        },
        {
         "name": "height",
         "rawType": "float64",
         "type": "float"
        },
        {
         "name": "weight",
         "rawType": "int64",
         "type": "integer"
        },
        {
         "name": "age",
         "rawType": "int64",
         "type": "integer"
        },
        {
         "name": "meat",
         "rawType": "int64",
         "type": "integer"
        },
        {
         "name": "fish",
         "rawType": "int64",
         "type": "integer"
        },
        {
         "name": "raw_fruit",
         "rawType": "int64",
         "type": "integer"
        },
        {
         "name": "cooked_fruit_veg",
         "rawType": "int64",
         "type": "integer"
        },
        {
         "name": "chocol",
         "rawType": "int64",
         "type": "integer"
        },
        {
         "name": "fat",
         "rawType": "int64",
         "type": "integer"
        }
       ],
       "ref": "30078920-2801-42d3-a274-63aeef177291",
       "rows": [
        [
         "0",
         "Female",
         "1",
         "0",
         "0",
         "151.0",
         "58",
         "72",
         "4",
         "3",
         "1",
         "4",
         "5",
         "6"
        ],
        [
         "1",
         "Female",
         "1",
         "1",
         "1",
         "162.0",
         "60",
         "68",
         "5",
         "2",
         "5",
         "5",
         "1",
         "4"
        ],
        [
         "2",
         "Female",
         "1",
         "0",
         "4",
         "162.0",
         "75",
         "78",
         "3",
         "1",
         "5",
         "2",
         "5",
         "4"
        ],
        [
         "3",
         "Female",
         "1",
         "0",
         "0",
         "154.0",
         "45",
         "91",
         "0",
         "4",
         "4",
         "0",
         "3",
         "2"
        ],
        [
         "4",
         "Female",
         "1",
         "2",
         "1",
         "154.0",
         "50",
         "65",
         "5",
         "3",
         "5",
         "5",
         "3",
         "2"
        ],
        [
         "5",
         "Female",
         "1",
         "2",
         "0",
         "159.0",
         "66",
         "82",
         "4",
         "2",
         "5",
         "5",
         "1",
         "3"
        ],
        [
         "6",
         "Female",
         "1",
         "2",
         "0",
         "160.0",
         "66",
         "74",
         "3",
         "3",
         "5",
         "5",
         "5",
         "6"
        ],
        [
         "7",
         "Female",
         "1",
         "0",
         "2",
         "163.0",
         "66",
         "73",
         "4",
         "2",
         "5",
         "5",
         "1",
         "6"
        ],
        [
         "8",
         "Female",
         "1",
         "0",
         "3",
         "154.0",
         "60",
         "89",
         "4",
         "3",
         "5",
         "5",
         "5",
         "6"
        ],
        [
         "9",
         "Female",
         "1",
         "0",
         "2",
         "160.0",
         "77",
         "87",
         "2",
         "3",
         "5",
         "4",
         "0",
         "3"
        ],
        [
         "10",
         "Female",
         "1",
         "0",
         "2",
         "175.0",
         "68",
         "91",
         "5",
         "2",
         "5",
         "5",
         "5",
         "3"
        ],
        [
         "11",
         "Female",
         "1",
         "2",
         "0",
         "165.0",
         "75",
         "81",
         "5",
         "2",
         "2",
         "3",
         "0",
         "6"
        ],
        [
         "12",
         "Female",
         "1",
         "0",
         "3",
         "158.0",
         "53",
         "89",
         "4",
         "2",
         "5",
         "5",
         "5",
         "4"
        ],
        [
         "13",
         "Female",
         "1",
         "2",
         "0",
         "155.0",
         "63",
         "79",
         "3",
         "1",
         "5",
         "3",
         "2",
         "4"
        ],
        [
         "14",
         "Female",
         "1",
         "0",
         "2",
         "154.0",
         "80",
         "83",
         "3",
         "3",
         "5",
         "5",
         "1",
         "3"
        ],
        [
         "15",
         "Male",
         "1",
         "0",
         "3",
         "166.0",
         "80",
         "78",
         "5",
         "0",
         "5",
         "3",
         "0",
         "4"
        ],
        [
         "16",
         "Female",
         "1",
         "0",
         "2",
         "159.0",
         "57",
         "74",
         "3",
         "2",
         "5",
         "3",
         "1",
         "4"
        ],
        [
         "17",
         "Female",
         "1",
         "0",
         "2",
         "157.0",
         "55",
         "74",
         "3",
         "2",
         "5",
         "5",
         "2",
         "3"
        ],
        [
         "18",
         "Male",
         "1",
         "0",
         "1",
         "165.0",
         "57",
         "78",
         "5",
         "2",
         "5",
         "5",
         "5",
         "4"
        ],
        [
         "19",
         "Female",
         "1",
         "0",
         "0",
         "156.0",
         "90",
         "78",
         "5",
         "1",
         "5",
         "5",
         "2",
         "4"
        ],
        [
         "20",
         "Male",
         "2",
         "0",
         "1",
         "175.0",
         "90",
         "73",
         "5",
         "1",
         "5",
         "3",
         "2",
         "8"
        ],
        [
         "21",
         "Female",
         "2",
         "2",
         "2",
         "161.0",
         "68",
         "76",
         "4",
         "2",
         "5",
         "5",
         "1",
         "1"
        ],
        [
         "22",
         "Male",
         "2",
         "2",
         "2",
         "168.0",
         "83",
         "85",
         "4",
         "2",
         "5",
         "5",
         "1",
         "1"
        ],
        [
         "23",
         "Male",
         "1",
         "0",
         "4",
         "168.0",
         "90",
         "73",
         "3",
         "2",
         "4",
         "5",
         "0",
         "3"
        ],
        [
         "24",
         "Female",
         "2",
         "3",
         "1",
         "156.0",
         "56",
         "77",
         "3",
         "2",
         "5",
         "3",
         "0",
         "4"
        ],
        [
         "25",
         "Male",
         "2",
         "3",
         "2",
         "170.0",
         "70",
         "74",
         "3",
         "2",
         "5",
         "3",
         "0",
         "4"
        ],
        [
         "26",
         "Female",
         "1",
         "0",
         "0",
         "162.0",
         "58",
         "67",
         "4",
         "3",
         "5",
         "5",
         "0",
         "3"
        ],
        [
         "27",
         "Male",
         "2",
         "4",
         "5",
         "172.0",
         "80",
         "68",
         "5",
         "3",
         "5",
         "5",
         "5",
         "5"
        ],
        [
         "28",
         "Female",
         "1",
         "1",
         "1",
         "165.0",
         "75",
         "69",
         "4",
         "3",
         "5",
         "5",
         "5",
         "3"
        ],
        [
         "29",
         "Male",
         "2",
         "0",
         "2",
         "171.0",
         "81",
         "71",
         "4",
         "2",
         "5",
         "5",
         "5",
         "3"
        ],
        [
         "30",
         "Female",
         "2",
         "0",
         "1",
         "160.0",
         "54",
         "67",
         "4",
         "4",
         "5",
         "3",
         "2",
         "4"
        ],
        [
         "31",
         "Male",
         "2",
         "0",
         "3",
         "176.0",
         "82",
         "76",
         "3",
         "3",
         "3",
         "5",
         "5",
         "6"
        ],
        [
         "32",
         "Male",
         "2",
         "0",
         "3",
         "164.0",
         "53",
         "69",
         "5",
         "3",
         "5",
         "5",
         "1",
         "5"
        ],
        [
         "33",
         "Female",
         "2",
         "1",
         "2",
         "156.0",
         "58",
         "67",
         "5",
         "3",
         "5",
         "5",
         "5",
         "3"
        ],
        [
         "34",
         "Female",
         "1",
         "0",
         "2",
         "153.0",
         "70",
         "69",
         "5",
         "0",
         "5",
         "5",
         "3",
         "5"
        ],
        [
         "35",
         "Male",
         "2",
         "1",
         "0",
         "159.0",
         "70",
         "85",
         "3",
         "1",
         "5",
         "4",
         "5",
         "1"
        ],
        [
         "36",
         "Male",
         "2",
         "0",
         "5",
         "170.0",
         "60",
         "74",
         "4",
         "2",
         "5",
         "5",
         "5",
         "1"
        ],
        [
         "37",
         "Male",
         "3",
         "0",
         "0",
         "178.0",
         "87",
         "78",
         "3",
         "2",
         "4",
         "3",
         "2",
         "1"
        ],
        [
         "38",
         "Male",
         "2",
         "1",
         "2",
         "172.0",
         "86",
         "73",
         "2",
         "5",
         "5",
         "5",
         "1",
         "4"
        ],
        [
         "39",
         "Male",
         "2",
         "0",
         "3",
         "186.0",
         "95",
         "74",
         "4",
         "3",
         "5",
         "5",
         "5",
         "4"
        ],
        [
         "40",
         "Female",
         "2",
         "0",
         "3",
         "168.0",
         "77",
         "69",
         "4",
         "3",
         "5",
         "5",
         "5",
         "4"
        ],
        [
         "41",
         "Male",
         "1",
         "0",
         "0",
         "181.0",
         "94",
         "71",
         "3",
         "2",
         "5",
         "3",
         "5",
         "5"
        ],
        [
         "42",
         "Male",
         "1",
         "0",
         "1",
         "172.0",
         "62",
         "85",
         "5",
         "3",
         "5",
         "5",
         "0",
         "5"
        ],
        [
         "43",
         "Male",
         "2",
         "0",
         "0",
         "160.0",
         "55",
         "70",
         "5",
         "3",
         "5",
         "5",
         "5",
         "2"
        ],
        [
         "44",
         "Female",
         "2",
         "0",
         "0",
         "155.0",
         "50",
         "73",
         "5",
         "1",
         "5",
         "5",
         "0",
         "3"
        ],
        [
         "45",
         "Male",
         "2",
         "0",
         "1",
         "172.0",
         "81",
         "74",
         "5",
         "1",
         "5",
         "5",
         "0",
         "3"
        ],
        [
         "46",
         "Female",
         "2",
         "0",
         "2",
         "160.0",
         "62",
         "77",
         "3",
         "2",
         "3",
         "5",
         "0",
         "4"
        ],
        [
         "47",
         "Female",
         "1",
         "0",
         "1",
         "158.0",
         "51",
         "69",
         "5",
         "1",
         "5",
         "5",
         "1",
         "4"
        ],
        [
         "48",
         "Female",
         "1",
         "0",
         "2",
         "160.0",
         "49",
         "76",
         "3",
         "3",
         "5",
         "5",
         "3",
         "4"
        ],
        [
         "49",
         "Female",
         "1",
         "0",
         "0",
         "164.0",
         "70",
         "79",
         "3",
         "3",
         "4",
         "5",
         "0",
         "5"
        ]
       ],
       "shape": {
        "columns": 13,
        "rows": 226
       }
      },
      "text/html": [
       "<div>\n",
       "<style scoped>\n",
       "    .dataframe tbody tr th:only-of-type {\n",
       "        vertical-align: middle;\n",
       "    }\n",
       "\n",
       "    .dataframe tbody tr th {\n",
       "        vertical-align: top;\n",
       "    }\n",
       "\n",
       "    .dataframe thead th {\n",
       "        text-align: right;\n",
       "    }\n",
       "</style>\n",
       "<table border=\"1\" class=\"dataframe\">\n",
       "  <thead>\n",
       "    <tr style=\"text-align: right;\">\n",
       "      <th></th>\n",
       "      <th>gender</th>\n",
       "      <th>situation</th>\n",
       "      <th>tea</th>\n",
       "      <th>coffee</th>\n",
       "      <th>height</th>\n",
       "      <th>weight</th>\n",
       "      <th>age</th>\n",
       "      <th>meat</th>\n",
       "      <th>fish</th>\n",
       "      <th>raw_fruit</th>\n",
       "      <th>cooked_fruit_veg</th>\n",
       "      <th>chocol</th>\n",
       "      <th>fat</th>\n",
       "    </tr>\n",
       "  </thead>\n",
       "  <tbody>\n",
       "    <tr>\n",
       "      <th>0</th>\n",
       "      <td>Female</td>\n",
       "      <td>1</td>\n",
       "      <td>0</td>\n",
       "      <td>0</td>\n",
       "      <td>151.0</td>\n",
       "      <td>58</td>\n",
       "      <td>72</td>\n",
       "      <td>4</td>\n",
       "      <td>3</td>\n",
       "      <td>1</td>\n",
       "      <td>4</td>\n",
       "      <td>5</td>\n",
       "      <td>6</td>\n",
       "    </tr>\n",
       "    <tr>\n",
       "      <th>1</th>\n",
       "      <td>Female</td>\n",
       "      <td>1</td>\n",
       "      <td>1</td>\n",
       "      <td>1</td>\n",
       "      <td>162.0</td>\n",
       "      <td>60</td>\n",
       "      <td>68</td>\n",
       "      <td>5</td>\n",
       "      <td>2</td>\n",
       "      <td>5</td>\n",
       "      <td>5</td>\n",
       "      <td>1</td>\n",
       "      <td>4</td>\n",
       "    </tr>\n",
       "    <tr>\n",
       "      <th>2</th>\n",
       "      <td>Female</td>\n",
       "      <td>1</td>\n",
       "      <td>0</td>\n",
       "      <td>4</td>\n",
       "      <td>162.0</td>\n",
       "      <td>75</td>\n",
       "      <td>78</td>\n",
       "      <td>3</td>\n",
       "      <td>1</td>\n",
       "      <td>5</td>\n",
       "      <td>2</td>\n",
       "      <td>5</td>\n",
       "      <td>4</td>\n",
       "    </tr>\n",
       "    <tr>\n",
       "      <th>3</th>\n",
       "      <td>Female</td>\n",
       "      <td>1</td>\n",
       "      <td>0</td>\n",
       "      <td>0</td>\n",
       "      <td>154.0</td>\n",
       "      <td>45</td>\n",
       "      <td>91</td>\n",
       "      <td>0</td>\n",
       "      <td>4</td>\n",
       "      <td>4</td>\n",
       "      <td>0</td>\n",
       "      <td>3</td>\n",
       "      <td>2</td>\n",
       "    </tr>\n",
       "    <tr>\n",
       "      <th>4</th>\n",
       "      <td>Female</td>\n",
       "      <td>1</td>\n",
       "      <td>2</td>\n",
       "      <td>1</td>\n",
       "      <td>154.0</td>\n",
       "      <td>50</td>\n",
       "      <td>65</td>\n",
       "      <td>5</td>\n",
       "      <td>3</td>\n",
       "      <td>5</td>\n",
       "      <td>5</td>\n",
       "      <td>3</td>\n",
       "      <td>2</td>\n",
       "    </tr>\n",
       "    <tr>\n",
       "      <th>...</th>\n",
       "      <td>...</td>\n",
       "      <td>...</td>\n",
       "      <td>...</td>\n",
       "      <td>...</td>\n",
       "      <td>...</td>\n",
       "      <td>...</td>\n",
       "      <td>...</td>\n",
       "      <td>...</td>\n",
       "      <td>...</td>\n",
       "      <td>...</td>\n",
       "      <td>...</td>\n",
       "      <td>...</td>\n",
       "      <td>...</td>\n",
       "    </tr>\n",
       "    <tr>\n",
       "      <th>221</th>\n",
       "      <td>Female</td>\n",
       "      <td>1</td>\n",
       "      <td>0</td>\n",
       "      <td>1</td>\n",
       "      <td>160.0</td>\n",
       "      <td>73</td>\n",
       "      <td>74</td>\n",
       "      <td>4</td>\n",
       "      <td>3</td>\n",
       "      <td>5</td>\n",
       "      <td>5</td>\n",
       "      <td>1</td>\n",
       "      <td>6</td>\n",
       "    </tr>\n",
       "    <tr>\n",
       "      <th>222</th>\n",
       "      <td>Female</td>\n",
       "      <td>2</td>\n",
       "      <td>0</td>\n",
       "      <td>3</td>\n",
       "      <td>163.0</td>\n",
       "      <td>62</td>\n",
       "      <td>68</td>\n",
       "      <td>4</td>\n",
       "      <td>3</td>\n",
       "      <td>4</td>\n",
       "      <td>4</td>\n",
       "      <td>1</td>\n",
       "      <td>3</td>\n",
       "    </tr>\n",
       "    <tr>\n",
       "      <th>223</th>\n",
       "      <td>Male</td>\n",
       "      <td>2</td>\n",
       "      <td>0</td>\n",
       "      <td>2</td>\n",
       "      <td>170.0</td>\n",
       "      <td>74</td>\n",
       "      <td>71</td>\n",
       "      <td>4</td>\n",
       "      <td>3</td>\n",
       "      <td>4</td>\n",
       "      <td>4</td>\n",
       "      <td>1</td>\n",
       "      <td>3</td>\n",
       "    </tr>\n",
       "    <tr>\n",
       "      <th>224</th>\n",
       "      <td>Female</td>\n",
       "      <td>1</td>\n",
       "      <td>0</td>\n",
       "      <td>2</td>\n",
       "      <td>154.0</td>\n",
       "      <td>45</td>\n",
       "      <td>77</td>\n",
       "      <td>4</td>\n",
       "      <td>3</td>\n",
       "      <td>3</td>\n",
       "      <td>5</td>\n",
       "      <td>3</td>\n",
       "      <td>5</td>\n",
       "    </tr>\n",
       "    <tr>\n",
       "      <th>225</th>\n",
       "      <td>Female</td>\n",
       "      <td>2</td>\n",
       "      <td>2</td>\n",
       "      <td>0</td>\n",
       "      <td>159.0</td>\n",
       "      <td>63</td>\n",
       "      <td>69</td>\n",
       "      <td>3</td>\n",
       "      <td>3</td>\n",
       "      <td>5</td>\n",
       "      <td>5</td>\n",
       "      <td>1</td>\n",
       "      <td>4</td>\n",
       "    </tr>\n",
       "  </tbody>\n",
       "</table>\n",
       "<p>226 rows × 13 columns</p>\n",
       "</div>"
      ],
      "text/plain": [
       "     gender  situation  tea  coffee  height  weight  age  meat  fish  \\\n",
       "0    Female          1    0       0   151.0      58   72     4     3   \n",
       "1    Female          1    1       1   162.0      60   68     5     2   \n",
       "2    Female          1    0       4   162.0      75   78     3     1   \n",
       "3    Female          1    0       0   154.0      45   91     0     4   \n",
       "4    Female          1    2       1   154.0      50   65     5     3   \n",
       "..      ...        ...  ...     ...     ...     ...  ...   ...   ...   \n",
       "221  Female          1    0       1   160.0      73   74     4     3   \n",
       "222  Female          2    0       3   163.0      62   68     4     3   \n",
       "223    Male          2    0       2   170.0      74   71     4     3   \n",
       "224  Female          1    0       2   154.0      45   77     4     3   \n",
       "225  Female          2    2       0   159.0      63   69     3     3   \n",
       "\n",
       "     raw_fruit  cooked_fruit_veg  chocol  fat  \n",
       "0            1                 4       5    6  \n",
       "1            5                 5       1    4  \n",
       "2            5                 2       5    4  \n",
       "3            4                 0       3    2  \n",
       "4            5                 5       3    2  \n",
       "..         ...               ...     ...  ...  \n",
       "221          5                 5       1    6  \n",
       "222          4                 4       1    3  \n",
       "223          4                 4       1    3  \n",
       "224          3                 5       3    5  \n",
       "225          5                 5       1    4  \n",
       "\n",
       "[226 rows x 13 columns]"
      ]
     },
     "execution_count": 18,
     "metadata": {},
     "output_type": "execute_result"
    }
   ],
   "source": [
    "\n",
    "df = pd.read_csv(\"./nutri.csv\")\n",
    "df"
   ]
  },
  {
   "cell_type": "code",
   "execution_count": 19,
   "id": "dc058e69",
   "metadata": {},
   "outputs": [],
   "source": [
    "df_head = df.head()"
   ]
  },
  {
   "cell_type": "code",
   "execution_count": 24,
   "id": "90b94bad",
   "metadata": {},
   "outputs": [
    {
     "data": {
      "application/vnd.microsoft.datawrangler.viewer.v0+json": {
       "columns": [
        {
         "name": "index",
         "rawType": "int64",
         "type": "integer"
        },
        {
         "name": "height",
         "rawType": "float64",
         "type": "float"
        },
        {
         "name": "weight",
         "rawType": "int64",
         "type": "integer"
        },
        {
         "name": "age",
         "rawType": "int64",
         "type": "integer"
        },
        {
         "name": "meat",
         "rawType": "int64",
         "type": "integer"
        }
       ],
       "ref": "e078ce9a-07f9-416e-b7ed-e6535a554de7",
       "rows": [
        [
         "1",
         "162.0",
         "60",
         "68",
         "5"
        ],
        [
         "2",
         "162.0",
         "75",
         "78",
         "3"
        ],
        [
         "3",
         "154.0",
         "45",
         "91",
         "0"
        ],
        [
         "4",
         "154.0",
         "50",
         "65",
         "5"
        ],
        [
         "5",
         "159.0",
         "66",
         "82",
         "4"
        ],
        [
         "6",
         "160.0",
         "66",
         "74",
         "3"
        ]
       ],
       "shape": {
        "columns": 4,
        "rows": 6
       }
      },
      "text/html": [
       "<div>\n",
       "<style scoped>\n",
       "    .dataframe tbody tr th:only-of-type {\n",
       "        vertical-align: middle;\n",
       "    }\n",
       "\n",
       "    .dataframe tbody tr th {\n",
       "        vertical-align: top;\n",
       "    }\n",
       "\n",
       "    .dataframe thead th {\n",
       "        text-align: right;\n",
       "    }\n",
       "</style>\n",
       "<table border=\"1\" class=\"dataframe\">\n",
       "  <thead>\n",
       "    <tr style=\"text-align: right;\">\n",
       "      <th></th>\n",
       "      <th>height</th>\n",
       "      <th>weight</th>\n",
       "      <th>age</th>\n",
       "      <th>meat</th>\n",
       "    </tr>\n",
       "  </thead>\n",
       "  <tbody>\n",
       "    <tr>\n",
       "      <th>1</th>\n",
       "      <td>162.0</td>\n",
       "      <td>60</td>\n",
       "      <td>68</td>\n",
       "      <td>5</td>\n",
       "    </tr>\n",
       "    <tr>\n",
       "      <th>2</th>\n",
       "      <td>162.0</td>\n",
       "      <td>75</td>\n",
       "      <td>78</td>\n",
       "      <td>3</td>\n",
       "    </tr>\n",
       "    <tr>\n",
       "      <th>3</th>\n",
       "      <td>154.0</td>\n",
       "      <td>45</td>\n",
       "      <td>91</td>\n",
       "      <td>0</td>\n",
       "    </tr>\n",
       "    <tr>\n",
       "      <th>4</th>\n",
       "      <td>154.0</td>\n",
       "      <td>50</td>\n",
       "      <td>65</td>\n",
       "      <td>5</td>\n",
       "    </tr>\n",
       "    <tr>\n",
       "      <th>5</th>\n",
       "      <td>159.0</td>\n",
       "      <td>66</td>\n",
       "      <td>82</td>\n",
       "      <td>4</td>\n",
       "    </tr>\n",
       "    <tr>\n",
       "      <th>6</th>\n",
       "      <td>160.0</td>\n",
       "      <td>66</td>\n",
       "      <td>74</td>\n",
       "      <td>3</td>\n",
       "    </tr>\n",
       "  </tbody>\n",
       "</table>\n",
       "</div>"
      ],
      "text/plain": [
       "   height  weight  age  meat\n",
       "1   162.0      60   68     5\n",
       "2   162.0      75   78     3\n",
       "3   154.0      45   91     0\n",
       "4   154.0      50   65     5\n",
       "5   159.0      66   82     4\n",
       "6   160.0      66   74     3"
      ]
     },
     "execution_count": 24,
     "metadata": {},
     "output_type": "execute_result"
    }
   ],
   "source": [
    "# df_head = df_head.set_index()\n",
    "# Syntax - df.iloc[Rows, Columns]\n",
    "df.iloc[1:7, 4:8]\n"
   ]
  },
  {
   "cell_type": "code",
   "execution_count": 25,
   "id": "dd689f92",
   "metadata": {},
   "outputs": [
    {
     "data": {
      "application/vnd.microsoft.datawrangler.viewer.v0+json": {
       "columns": [
        {
         "name": "index",
         "rawType": "object",
         "type": "string"
        },
        {
         "name": "Chemistry",
         "rawType": "int64",
         "type": "integer"
        },
        {
         "name": "Physics",
         "rawType": "int64",
         "type": "integer"
        },
        {
         "name": "Mathematics",
         "rawType": "int64",
         "type": "integer"
        },
        {
         "name": "English",
         "rawType": "int64",
         "type": "integer"
        }
       ],
       "ref": "714ca134-94f5-47c7-81d6-5023f9c09ac2",
       "rows": [
        [
         "Subodh",
         "67",
         "45",
         "50",
         "19"
        ],
        [
         "Ram",
         "90",
         "92",
         "87",
         "90"
        ],
        [
         "Abdul",
         "66",
         "72",
         "81",
         "72"
        ],
        [
         "John",
         "32",
         "40",
         "12",
         "68"
        ]
       ],
       "shape": {
        "columns": 4,
        "rows": 4
       }
      },
      "text/html": [
       "<div>\n",
       "<style scoped>\n",
       "    .dataframe tbody tr th:only-of-type {\n",
       "        vertical-align: middle;\n",
       "    }\n",
       "\n",
       "    .dataframe tbody tr th {\n",
       "        vertical-align: top;\n",
       "    }\n",
       "\n",
       "    .dataframe thead th {\n",
       "        text-align: right;\n",
       "    }\n",
       "</style>\n",
       "<table border=\"1\" class=\"dataframe\">\n",
       "  <thead>\n",
       "    <tr style=\"text-align: right;\">\n",
       "      <th></th>\n",
       "      <th>Chemistry</th>\n",
       "      <th>Physics</th>\n",
       "      <th>Mathematics</th>\n",
       "      <th>English</th>\n",
       "    </tr>\n",
       "  </thead>\n",
       "  <tbody>\n",
       "    <tr>\n",
       "      <th>Subodh</th>\n",
       "      <td>67</td>\n",
       "      <td>45</td>\n",
       "      <td>50</td>\n",
       "      <td>19</td>\n",
       "    </tr>\n",
       "    <tr>\n",
       "      <th>Ram</th>\n",
       "      <td>90</td>\n",
       "      <td>92</td>\n",
       "      <td>87</td>\n",
       "      <td>90</td>\n",
       "    </tr>\n",
       "    <tr>\n",
       "      <th>Abdul</th>\n",
       "      <td>66</td>\n",
       "      <td>72</td>\n",
       "      <td>81</td>\n",
       "      <td>72</td>\n",
       "    </tr>\n",
       "    <tr>\n",
       "      <th>John</th>\n",
       "      <td>32</td>\n",
       "      <td>40</td>\n",
       "      <td>12</td>\n",
       "      <td>68</td>\n",
       "    </tr>\n",
       "  </tbody>\n",
       "</table>\n",
       "</div>"
      ],
      "text/plain": [
       "        Chemistry  Physics  Mathematics  English\n",
       "Subodh         67       45           50       19\n",
       "Ram            90       92           87       90\n",
       "Abdul          66       72           81       72\n",
       "John           32       40           12       68"
      ]
     },
     "execution_count": 25,
     "metadata": {},
     "output_type": "execute_result"
    }
   ],
   "source": [
    "marks = {'Chemistry': [67,90,66,32], \n",
    "        'Physics': [45,92,72,40],  \n",
    "        'Mathematics': [50,87,81,12],  \n",
    "        'English': [19,90,72,68]}\n",
    "marks_df = pd.DataFrame(marks, index = ['Subodh', 'Ram', 'Abdul', 'John'])\n",
    "marks_df\n"
   ]
  },
  {
   "cell_type": "code",
   "execution_count": 26,
   "id": "6bbc8c47",
   "metadata": {},
   "outputs": [
    {
     "data": {
      "application/vnd.microsoft.datawrangler.viewer.v0+json": {
       "columns": [
        {
         "name": "index",
         "rawType": "object",
         "type": "string"
        },
        {
         "name": "Chemistry",
         "rawType": "int64",
         "type": "integer"
        },
        {
         "name": "Physics",
         "rawType": "int64",
         "type": "integer"
        },
        {
         "name": "Mathematics",
         "rawType": "int64",
         "type": "integer"
        },
        {
         "name": "English",
         "rawType": "int64",
         "type": "integer"
        },
        {
         "name": "Total",
         "rawType": "int64",
         "type": "integer"
        }
       ],
       "ref": "e5db62aa-15b7-431b-995a-bcddec3f350d",
       "rows": [
        [
         "Subodh",
         "67",
         "45",
         "50",
         "19",
         "181"
        ],
        [
         "Ram",
         "90",
         "92",
         "87",
         "90",
         "359"
        ],
        [
         "Abdul",
         "66",
         "72",
         "81",
         "72",
         "291"
        ],
        [
         "John",
         "32",
         "40",
         "12",
         "68",
         "152"
        ]
       ],
       "shape": {
        "columns": 5,
        "rows": 4
       }
      },
      "text/html": [
       "<div>\n",
       "<style scoped>\n",
       "    .dataframe tbody tr th:only-of-type {\n",
       "        vertical-align: middle;\n",
       "    }\n",
       "\n",
       "    .dataframe tbody tr th {\n",
       "        vertical-align: top;\n",
       "    }\n",
       "\n",
       "    .dataframe thead th {\n",
       "        text-align: right;\n",
       "    }\n",
       "</style>\n",
       "<table border=\"1\" class=\"dataframe\">\n",
       "  <thead>\n",
       "    <tr style=\"text-align: right;\">\n",
       "      <th></th>\n",
       "      <th>Chemistry</th>\n",
       "      <th>Physics</th>\n",
       "      <th>Mathematics</th>\n",
       "      <th>English</th>\n",
       "      <th>Total</th>\n",
       "    </tr>\n",
       "  </thead>\n",
       "  <tbody>\n",
       "    <tr>\n",
       "      <th>Subodh</th>\n",
       "      <td>67</td>\n",
       "      <td>45</td>\n",
       "      <td>50</td>\n",
       "      <td>19</td>\n",
       "      <td>181</td>\n",
       "    </tr>\n",
       "    <tr>\n",
       "      <th>Ram</th>\n",
       "      <td>90</td>\n",
       "      <td>92</td>\n",
       "      <td>87</td>\n",
       "      <td>90</td>\n",
       "      <td>359</td>\n",
       "    </tr>\n",
       "    <tr>\n",
       "      <th>Abdul</th>\n",
       "      <td>66</td>\n",
       "      <td>72</td>\n",
       "      <td>81</td>\n",
       "      <td>72</td>\n",
       "      <td>291</td>\n",
       "    </tr>\n",
       "    <tr>\n",
       "      <th>John</th>\n",
       "      <td>32</td>\n",
       "      <td>40</td>\n",
       "      <td>12</td>\n",
       "      <td>68</td>\n",
       "      <td>152</td>\n",
       "    </tr>\n",
       "  </tbody>\n",
       "</table>\n",
       "</div>"
      ],
      "text/plain": [
       "        Chemistry  Physics  Mathematics  English  Total\n",
       "Subodh         67       45           50       19    181\n",
       "Ram            90       92           87       90    359\n",
       "Abdul          66       72           81       72    291\n",
       "John           32       40           12       68    152"
      ]
     },
     "execution_count": 26,
     "metadata": {},
     "output_type": "execute_result"
    }
   ],
   "source": [
    "marks_df['Total'] = marks_df['Chemistry'] + marks_df['Physics'] + marks_df['Mathematics'] + marks_df['English']\n",
    "marks_df\n"
   ]
  },
  {
   "cell_type": "code",
   "execution_count": 27,
   "id": "3ddaea8f",
   "metadata": {},
   "outputs": [],
   "source": [
    "marks_df.drop(columns = 'Total', inplace = True)\n"
   ]
  },
  {
   "cell_type": "code",
   "execution_count": 28,
   "id": "8c37866c",
   "metadata": {},
   "outputs": [
    {
     "data": {
      "application/vnd.microsoft.datawrangler.viewer.v0+json": {
       "columns": [
        {
         "name": "index",
         "rawType": "object",
         "type": "string"
        },
        {
         "name": "Chemistry",
         "rawType": "int64",
         "type": "integer"
        },
        {
         "name": "Physics",
         "rawType": "int64",
         "type": "integer"
        },
        {
         "name": "Mathematics",
         "rawType": "int64",
         "type": "integer"
        },
        {
         "name": "English",
         "rawType": "int64",
         "type": "integer"
        }
       ],
       "ref": "a912ee93-1126-4cae-987f-b629ac8771cd",
       "rows": [
        [
         "Subodh",
         "67",
         "45",
         "50",
         "19"
        ],
        [
         "Ram",
         "90",
         "92",
         "87",
         "90"
        ],
        [
         "Abdul",
         "66",
         "72",
         "81",
         "72"
        ],
        [
         "John",
         "32",
         "40",
         "12",
         "68"
        ]
       ],
       "shape": {
        "columns": 4,
        "rows": 4
       }
      },
      "text/html": [
       "<div>\n",
       "<style scoped>\n",
       "    .dataframe tbody tr th:only-of-type {\n",
       "        vertical-align: middle;\n",
       "    }\n",
       "\n",
       "    .dataframe tbody tr th {\n",
       "        vertical-align: top;\n",
       "    }\n",
       "\n",
       "    .dataframe thead th {\n",
       "        text-align: right;\n",
       "    }\n",
       "</style>\n",
       "<table border=\"1\" class=\"dataframe\">\n",
       "  <thead>\n",
       "    <tr style=\"text-align: right;\">\n",
       "      <th></th>\n",
       "      <th>Chemistry</th>\n",
       "      <th>Physics</th>\n",
       "      <th>Mathematics</th>\n",
       "      <th>English</th>\n",
       "    </tr>\n",
       "  </thead>\n",
       "  <tbody>\n",
       "    <tr>\n",
       "      <th>Subodh</th>\n",
       "      <td>67</td>\n",
       "      <td>45</td>\n",
       "      <td>50</td>\n",
       "      <td>19</td>\n",
       "    </tr>\n",
       "    <tr>\n",
       "      <th>Ram</th>\n",
       "      <td>90</td>\n",
       "      <td>92</td>\n",
       "      <td>87</td>\n",
       "      <td>90</td>\n",
       "    </tr>\n",
       "    <tr>\n",
       "      <th>Abdul</th>\n",
       "      <td>66</td>\n",
       "      <td>72</td>\n",
       "      <td>81</td>\n",
       "      <td>72</td>\n",
       "    </tr>\n",
       "    <tr>\n",
       "      <th>John</th>\n",
       "      <td>32</td>\n",
       "      <td>40</td>\n",
       "      <td>12</td>\n",
       "      <td>68</td>\n",
       "    </tr>\n",
       "  </tbody>\n",
       "</table>\n",
       "</div>"
      ],
      "text/plain": [
       "        Chemistry  Physics  Mathematics  English\n",
       "Subodh         67       45           50       19\n",
       "Ram            90       92           87       90\n",
       "Abdul          66       72           81       72\n",
       "John           32       40           12       68"
      ]
     },
     "execution_count": 28,
     "metadata": {},
     "output_type": "execute_result"
    }
   ],
   "source": [
    "marks_df"
   ]
  },
  {
   "cell_type": "code",
   "execution_count": 29,
   "id": "d49be59d",
   "metadata": {},
   "outputs": [
    {
     "data": {
      "application/vnd.microsoft.datawrangler.viewer.v0+json": {
       "columns": [
        {
         "name": "index",
         "rawType": "object",
         "type": "string"
        },
        {
         "name": "Chemistry",
         "rawType": "int64",
         "type": "integer"
        },
        {
         "name": "Physics",
         "rawType": "int64",
         "type": "integer"
        },
        {
         "name": "Mathematics",
         "rawType": "int64",
         "type": "integer"
        },
        {
         "name": "English",
         "rawType": "int64",
         "type": "integer"
        }
       ],
       "ref": "30a2a64c-6cc2-4c07-a33a-fca06a76fde2",
       "rows": [
        [
         "Subodh",
         "67",
         "45",
         "50",
         "19"
        ],
        [
         "Ram",
         "90",
         "92",
         "87",
         "90"
        ],
        [
         "Abdul",
         "66",
         "72",
         "81",
         "72"
        ],
        [
         "John",
         "32",
         "40",
         "12",
         "68"
        ]
       ],
       "shape": {
        "columns": 4,
        "rows": 4
       }
      },
      "text/html": [
       "<div>\n",
       "<style scoped>\n",
       "    .dataframe tbody tr th:only-of-type {\n",
       "        vertical-align: middle;\n",
       "    }\n",
       "\n",
       "    .dataframe tbody tr th {\n",
       "        vertical-align: top;\n",
       "    }\n",
       "\n",
       "    .dataframe thead th {\n",
       "        text-align: right;\n",
       "    }\n",
       "</style>\n",
       "<table border=\"1\" class=\"dataframe\">\n",
       "  <thead>\n",
       "    <tr style=\"text-align: right;\">\n",
       "      <th></th>\n",
       "      <th>Chemistry</th>\n",
       "      <th>Physics</th>\n",
       "      <th>Mathematics</th>\n",
       "      <th>English</th>\n",
       "    </tr>\n",
       "  </thead>\n",
       "  <tbody>\n",
       "    <tr>\n",
       "      <th>Subodh</th>\n",
       "      <td>67</td>\n",
       "      <td>45</td>\n",
       "      <td>50</td>\n",
       "      <td>19</td>\n",
       "    </tr>\n",
       "    <tr>\n",
       "      <th>Ram</th>\n",
       "      <td>90</td>\n",
       "      <td>92</td>\n",
       "      <td>87</td>\n",
       "      <td>90</td>\n",
       "    </tr>\n",
       "    <tr>\n",
       "      <th>Abdul</th>\n",
       "      <td>66</td>\n",
       "      <td>72</td>\n",
       "      <td>81</td>\n",
       "      <td>72</td>\n",
       "    </tr>\n",
       "    <tr>\n",
       "      <th>John</th>\n",
       "      <td>32</td>\n",
       "      <td>40</td>\n",
       "      <td>12</td>\n",
       "      <td>68</td>\n",
       "    </tr>\n",
       "  </tbody>\n",
       "</table>\n",
       "</div>"
      ],
      "text/plain": [
       "        Chemistry  Physics  Mathematics  English\n",
       "Subodh         67       45           50       19\n",
       "Ram            90       92           87       90\n",
       "Abdul          66       72           81       72\n",
       "John           32       40           12       68"
      ]
     },
     "execution_count": 29,
     "metadata": {},
     "output_type": "execute_result"
    }
   ],
   "source": [
    "marks = [{'Chemistry': 67, 'Physics': 45, 'Mathematics': 50, 'English' : 19},\n",
    "        {'Chemistry': 90, 'Physics': 92, 'Mathematics': 87, 'English' : 90}, \n",
    "        {'Chemistry': 66, 'Physics': 72, 'Mathematics': 81, 'English' : 72}, \n",
    "        {'Chemistry': 32, 'Physics': 40, 'Mathematics': 12, 'English' : 68}]\n",
    "marks_df = pd.DataFrame(marks, index = ['Subodh', 'Ram', 'Abdul', 'John'])\n",
    "marks_df\n"
   ]
  },
  {
   "cell_type": "code",
   "execution_count": 30,
   "id": "e15409ab",
   "metadata": {},
   "outputs": [
    {
     "data": {
      "application/vnd.microsoft.datawrangler.viewer.v0+json": {
       "columns": [
        {
         "name": "index",
         "rawType": "object",
         "type": "string"
        },
        {
         "name": "Chemistry",
         "rawType": "object",
         "type": "unknown"
        },
        {
         "name": "Physics",
         "rawType": "int64",
         "type": "integer"
        },
        {
         "name": "Mathematics",
         "rawType": "object",
         "type": "unknown"
        },
        {
         "name": "English",
         "rawType": "object",
         "type": "unknown"
        }
       ],
       "ref": "21daba41-a818-44bc-8cb0-2742b40a89ca",
       "rows": [
        [
         "Subodh",
         "67",
         "45",
         "50",
         "fail"
        ],
        [
         "Ram",
         "90",
         "92",
         "87",
         "90"
        ],
        [
         "Abdul",
         "66",
         "72",
         "81",
         "72"
        ],
        [
         "John",
         "fail",
         "40",
         "fail",
         "68"
        ]
       ],
       "shape": {
        "columns": 4,
        "rows": 4
       }
      },
      "text/html": [
       "<div>\n",
       "<style scoped>\n",
       "    .dataframe tbody tr th:only-of-type {\n",
       "        vertical-align: middle;\n",
       "    }\n",
       "\n",
       "    .dataframe tbody tr th {\n",
       "        vertical-align: top;\n",
       "    }\n",
       "\n",
       "    .dataframe thead th {\n",
       "        text-align: right;\n",
       "    }\n",
       "</style>\n",
       "<table border=\"1\" class=\"dataframe\">\n",
       "  <thead>\n",
       "    <tr style=\"text-align: right;\">\n",
       "      <th></th>\n",
       "      <th>Chemistry</th>\n",
       "      <th>Physics</th>\n",
       "      <th>Mathematics</th>\n",
       "      <th>English</th>\n",
       "    </tr>\n",
       "  </thead>\n",
       "  <tbody>\n",
       "    <tr>\n",
       "      <th>Subodh</th>\n",
       "      <td>67</td>\n",
       "      <td>45</td>\n",
       "      <td>50</td>\n",
       "      <td>fail</td>\n",
       "    </tr>\n",
       "    <tr>\n",
       "      <th>Ram</th>\n",
       "      <td>90</td>\n",
       "      <td>92</td>\n",
       "      <td>87</td>\n",
       "      <td>90</td>\n",
       "    </tr>\n",
       "    <tr>\n",
       "      <th>Abdul</th>\n",
       "      <td>66</td>\n",
       "      <td>72</td>\n",
       "      <td>81</td>\n",
       "      <td>72</td>\n",
       "    </tr>\n",
       "    <tr>\n",
       "      <th>John</th>\n",
       "      <td>fail</td>\n",
       "      <td>40</td>\n",
       "      <td>fail</td>\n",
       "      <td>68</td>\n",
       "    </tr>\n",
       "  </tbody>\n",
       "</table>\n",
       "</div>"
      ],
      "text/plain": [
       "       Chemistry  Physics Mathematics English\n",
       "Subodh        67       45          50    fail\n",
       "Ram           90       92          87      90\n",
       "Abdul         66       72          81      72\n",
       "John        fail       40        fail      68"
      ]
     },
     "execution_count": 30,
     "metadata": {},
     "output_type": "execute_result"
    }
   ],
   "source": [
    "f = marks_df < 33\n",
    "marks_df.mask(f, 'fail')\n"
   ]
  },
  {
   "cell_type": "code",
   "execution_count": 31,
   "id": "b370fd1b",
   "metadata": {},
   "outputs": [
    {
     "data": {
      "application/vnd.microsoft.datawrangler.viewer.v0+json": {
       "columns": [
        {
         "name": "index",
         "rawType": "object",
         "type": "string"
        },
        {
         "name": "Chemistry",
         "rawType": "int64",
         "type": "integer"
        },
        {
         "name": "Physics",
         "rawType": "int64",
         "type": "integer"
        },
        {
         "name": "Mathematics",
         "rawType": "int64",
         "type": "integer"
        },
        {
         "name": "English",
         "rawType": "int64",
         "type": "integer"
        }
       ],
       "ref": "0d4eaa6c-1700-40c0-b4cd-69c41ace894e",
       "rows": [
        [
         "Subodh",
         "67",
         "45",
         "50",
         "19"
        ],
        [
         "Ram",
         "90",
         "92",
         "87",
         "90"
        ],
        [
         "Abdul",
         "66",
         "72",
         "81",
         "72"
        ],
        [
         "John",
         "32",
         "40",
         "12",
         "68"
        ]
       ],
       "shape": {
        "columns": 4,
        "rows": 4
       }
      },
      "text/html": [
       "<div>\n",
       "<style scoped>\n",
       "    .dataframe tbody tr th:only-of-type {\n",
       "        vertical-align: middle;\n",
       "    }\n",
       "\n",
       "    .dataframe tbody tr th {\n",
       "        vertical-align: top;\n",
       "    }\n",
       "\n",
       "    .dataframe thead th {\n",
       "        text-align: right;\n",
       "    }\n",
       "</style>\n",
       "<table border=\"1\" class=\"dataframe\">\n",
       "  <thead>\n",
       "    <tr style=\"text-align: right;\">\n",
       "      <th></th>\n",
       "      <th>Chemistry</th>\n",
       "      <th>Physics</th>\n",
       "      <th>Mathematics</th>\n",
       "      <th>English</th>\n",
       "    </tr>\n",
       "  </thead>\n",
       "  <tbody>\n",
       "    <tr>\n",
       "      <th>Subodh</th>\n",
       "      <td>67</td>\n",
       "      <td>45</td>\n",
       "      <td>50</td>\n",
       "      <td>19</td>\n",
       "    </tr>\n",
       "    <tr>\n",
       "      <th>Ram</th>\n",
       "      <td>90</td>\n",
       "      <td>92</td>\n",
       "      <td>87</td>\n",
       "      <td>90</td>\n",
       "    </tr>\n",
       "    <tr>\n",
       "      <th>Abdul</th>\n",
       "      <td>66</td>\n",
       "      <td>72</td>\n",
       "      <td>81</td>\n",
       "      <td>72</td>\n",
       "    </tr>\n",
       "    <tr>\n",
       "      <th>John</th>\n",
       "      <td>32</td>\n",
       "      <td>40</td>\n",
       "      <td>12</td>\n",
       "      <td>68</td>\n",
       "    </tr>\n",
       "  </tbody>\n",
       "</table>\n",
       "</div>"
      ],
      "text/plain": [
       "        Chemistry  Physics  Mathematics  English\n",
       "Subodh         67       45           50       19\n",
       "Ram            90       92           87       90\n",
       "Abdul          66       72           81       72\n",
       "John           32       40           12       68"
      ]
     },
     "execution_count": 31,
     "metadata": {},
     "output_type": "execute_result"
    }
   ],
   "source": [
    "marks = {'Chemistry': [67,90,66,32], \n",
    "        'Physics': [45,92,72,40],  \n",
    "        'Mathematics': [50,87,81,12],  \n",
    "        'English': [19,90,72,68]}\n",
    "marks_df = pd.DataFrame(marks, index = ['Subodh', 'Ram', 'Abdul', 'John'])\n",
    "marks_df\n"
   ]
  },
  {
   "cell_type": "code",
   "execution_count": 32,
   "id": "5bd3c4de",
   "metadata": {},
   "outputs": [
    {
     "data": {
      "application/vnd.microsoft.datawrangler.viewer.v0+json": {
       "columns": [
        {
         "name": "index",
         "rawType": "object",
         "type": "string"
        },
        {
         "name": "Chemistry",
         "rawType": "float64",
         "type": "float"
        },
        {
         "name": "Physics",
         "rawType": "float64",
         "type": "float"
        },
        {
         "name": "Mathematics",
         "rawType": "float64",
         "type": "float"
        },
        {
         "name": "English",
         "rawType": "float64",
         "type": "float"
        }
       ],
       "ref": "799b7b41-81ee-4644-9b60-c1dcb3a0cea3",
       "rows": [
        [
         "Subodh",
         "-0.8555199789753223",
         "0.8509035245341184",
         "-0.26237485370392877",
         "0.14987720966295234"
        ],
        [
         "Ram",
         "0.8939966636005579",
         "-0.7794660696158047",
         "-0.8218178366308225",
         "0.8939966636005579"
        ],
        [
         "Abdul",
         "-0.026551154023966794",
         "0.25382336276203626",
         "-0.6298879942744539",
         "0.25382336276203626"
        ],
        [
         "John",
         "0.5514266812416906",
         "0.7451131604793488",
         "-0.5365729180004349",
         "-0.8979276806892913"
        ]
       ],
       "shape": {
        "columns": 4,
        "rows": 4
       }
      },
      "text/html": [
       "<div>\n",
       "<style scoped>\n",
       "    .dataframe tbody tr th:only-of-type {\n",
       "        vertical-align: middle;\n",
       "    }\n",
       "\n",
       "    .dataframe tbody tr th {\n",
       "        vertical-align: top;\n",
       "    }\n",
       "\n",
       "    .dataframe thead th {\n",
       "        text-align: right;\n",
       "    }\n",
       "</style>\n",
       "<table border=\"1\" class=\"dataframe\">\n",
       "  <thead>\n",
       "    <tr style=\"text-align: right;\">\n",
       "      <th></th>\n",
       "      <th>Chemistry</th>\n",
       "      <th>Physics</th>\n",
       "      <th>Mathematics</th>\n",
       "      <th>English</th>\n",
       "    </tr>\n",
       "  </thead>\n",
       "  <tbody>\n",
       "    <tr>\n",
       "      <th>Subodh</th>\n",
       "      <td>-0.855520</td>\n",
       "      <td>0.850904</td>\n",
       "      <td>-0.262375</td>\n",
       "      <td>0.149877</td>\n",
       "    </tr>\n",
       "    <tr>\n",
       "      <th>Ram</th>\n",
       "      <td>0.893997</td>\n",
       "      <td>-0.779466</td>\n",
       "      <td>-0.821818</td>\n",
       "      <td>0.893997</td>\n",
       "    </tr>\n",
       "    <tr>\n",
       "      <th>Abdul</th>\n",
       "      <td>-0.026551</td>\n",
       "      <td>0.253823</td>\n",
       "      <td>-0.629888</td>\n",
       "      <td>0.253823</td>\n",
       "    </tr>\n",
       "    <tr>\n",
       "      <th>John</th>\n",
       "      <td>0.551427</td>\n",
       "      <td>0.745113</td>\n",
       "      <td>-0.536573</td>\n",
       "      <td>-0.897928</td>\n",
       "    </tr>\n",
       "  </tbody>\n",
       "</table>\n",
       "</div>"
      ],
      "text/plain": [
       "        Chemistry   Physics  Mathematics   English\n",
       "Subodh  -0.855520  0.850904    -0.262375  0.149877\n",
       "Ram      0.893997 -0.779466    -0.821818  0.893997\n",
       "Abdul   -0.026551  0.253823    -0.629888  0.253823\n",
       "John     0.551427  0.745113    -0.536573 -0.897928"
      ]
     },
     "execution_count": 32,
     "metadata": {},
     "output_type": "execute_result"
    }
   ],
   "source": [
    "#encrypting marks as sine of marks\n",
    "encrypted_marks = np.sin(marks_df)\n",
    "encrypted_marks\n"
   ]
  },
  {
   "cell_type": "code",
   "execution_count": 33,
   "id": "9cc8ee0d",
   "metadata": {},
   "outputs": [
    {
     "data": {
      "application/vnd.microsoft.datawrangler.viewer.v0+json": {
       "columns": [
        {
         "name": "index",
         "rawType": "int64",
         "type": "integer"
        },
        {
         "name": "index",
         "rawType": "object",
         "type": "string"
        },
        {
         "name": "Chemistry",
         "rawType": "float64",
         "type": "float"
        },
        {
         "name": "Physics",
         "rawType": "float64",
         "type": "float"
        },
        {
         "name": "Mathematics",
         "rawType": "float64",
         "type": "float"
        },
        {
         "name": "English",
         "rawType": "float64",
         "type": "float"
        }
       ],
       "ref": "02bda6d8-ad40-4b9a-9812-26eb7a651e9a",
       "rows": [
        [
         "0",
         "Subodh",
         "-0.8555199789753223",
         "0.8509035245341184",
         "-0.26237485370392877",
         "0.14987720966295234"
        ],
        [
         "1",
         "Ram",
         "0.8939966636005579",
         "-0.7794660696158047",
         "-0.8218178366308225",
         "0.8939966636005579"
        ],
        [
         "2",
         "Abdul",
         "-0.026551154023966794",
         "0.25382336276203626",
         "-0.6298879942744539",
         "0.25382336276203626"
        ],
        [
         "3",
         "John",
         "0.5514266812416906",
         "0.7451131604793488",
         "-0.5365729180004349",
         "-0.8979276806892913"
        ]
       ],
       "shape": {
        "columns": 5,
        "rows": 4
       }
      },
      "text/html": [
       "<div>\n",
       "<style scoped>\n",
       "    .dataframe tbody tr th:only-of-type {\n",
       "        vertical-align: middle;\n",
       "    }\n",
       "\n",
       "    .dataframe tbody tr th {\n",
       "        vertical-align: top;\n",
       "    }\n",
       "\n",
       "    .dataframe thead th {\n",
       "        text-align: right;\n",
       "    }\n",
       "</style>\n",
       "<table border=\"1\" class=\"dataframe\">\n",
       "  <thead>\n",
       "    <tr style=\"text-align: right;\">\n",
       "      <th></th>\n",
       "      <th>index</th>\n",
       "      <th>Chemistry</th>\n",
       "      <th>Physics</th>\n",
       "      <th>Mathematics</th>\n",
       "      <th>English</th>\n",
       "    </tr>\n",
       "  </thead>\n",
       "  <tbody>\n",
       "    <tr>\n",
       "      <th>0</th>\n",
       "      <td>Subodh</td>\n",
       "      <td>-0.855520</td>\n",
       "      <td>0.850904</td>\n",
       "      <td>-0.262375</td>\n",
       "      <td>0.149877</td>\n",
       "    </tr>\n",
       "    <tr>\n",
       "      <th>1</th>\n",
       "      <td>Ram</td>\n",
       "      <td>0.893997</td>\n",
       "      <td>-0.779466</td>\n",
       "      <td>-0.821818</td>\n",
       "      <td>0.893997</td>\n",
       "    </tr>\n",
       "    <tr>\n",
       "      <th>2</th>\n",
       "      <td>Abdul</td>\n",
       "      <td>-0.026551</td>\n",
       "      <td>0.253823</td>\n",
       "      <td>-0.629888</td>\n",
       "      <td>0.253823</td>\n",
       "    </tr>\n",
       "    <tr>\n",
       "      <th>3</th>\n",
       "      <td>John</td>\n",
       "      <td>0.551427</td>\n",
       "      <td>0.745113</td>\n",
       "      <td>-0.536573</td>\n",
       "      <td>-0.897928</td>\n",
       "    </tr>\n",
       "  </tbody>\n",
       "</table>\n",
       "</div>"
      ],
      "text/plain": [
       "    index  Chemistry   Physics  Mathematics   English\n",
       "0  Subodh  -0.855520  0.850904    -0.262375  0.149877\n",
       "1     Ram   0.893997 -0.779466    -0.821818  0.893997\n",
       "2   Abdul  -0.026551  0.253823    -0.629888  0.253823\n",
       "3    John   0.551427  0.745113    -0.536573 -0.897928"
      ]
     },
     "execution_count": 33,
     "metadata": {},
     "output_type": "execute_result"
    }
   ],
   "source": [
    "encrypted_marks.reset_index(inplace = True)\n",
    "encrypted_marks\n"
   ]
  },
  {
   "cell_type": "code",
   "execution_count": 34,
   "id": "e026c664",
   "metadata": {},
   "outputs": [
    {
     "data": {
      "application/vnd.microsoft.datawrangler.viewer.v0+json": {
       "columns": [
        {
         "name": "index",
         "rawType": "int64",
         "type": "integer"
        },
        {
         "name": "employee",
         "rawType": "object",
         "type": "string"
        },
        {
         "name": "group",
         "rawType": "object",
         "type": "string"
        }
       ],
       "ref": "47772c17-7271-4c88-8fed-6e79e10a49e8",
       "rows": [
        [
         "0",
         "Jyoti",
         "Accounting"
        ],
        [
         "1",
         "Sapna",
         "Engineering"
        ],
        [
         "2",
         "Raj",
         "Engineering"
        ],
        [
         "3",
         "Ramaswamy",
         "HR"
        ]
       ],
       "shape": {
        "columns": 2,
        "rows": 4
       }
      },
      "text/html": [
       "<div>\n",
       "<style scoped>\n",
       "    .dataframe tbody tr th:only-of-type {\n",
       "        vertical-align: middle;\n",
       "    }\n",
       "\n",
       "    .dataframe tbody tr th {\n",
       "        vertical-align: top;\n",
       "    }\n",
       "\n",
       "    .dataframe thead th {\n",
       "        text-align: right;\n",
       "    }\n",
       "</style>\n",
       "<table border=\"1\" class=\"dataframe\">\n",
       "  <thead>\n",
       "    <tr style=\"text-align: right;\">\n",
       "      <th></th>\n",
       "      <th>employee</th>\n",
       "      <th>group</th>\n",
       "    </tr>\n",
       "  </thead>\n",
       "  <tbody>\n",
       "    <tr>\n",
       "      <th>0</th>\n",
       "      <td>Jyoti</td>\n",
       "      <td>Accounting</td>\n",
       "    </tr>\n",
       "    <tr>\n",
       "      <th>1</th>\n",
       "      <td>Sapna</td>\n",
       "      <td>Engineering</td>\n",
       "    </tr>\n",
       "    <tr>\n",
       "      <th>2</th>\n",
       "      <td>Raj</td>\n",
       "      <td>Engineering</td>\n",
       "    </tr>\n",
       "    <tr>\n",
       "      <th>3</th>\n",
       "      <td>Ramaswamy</td>\n",
       "      <td>HR</td>\n",
       "    </tr>\n",
       "  </tbody>\n",
       "</table>\n",
       "</div>"
      ],
      "text/plain": [
       "    employee        group\n",
       "0      Jyoti   Accounting\n",
       "1      Sapna  Engineering\n",
       "2        Raj  Engineering\n",
       "3  Ramaswamy           HR"
      ]
     },
     "metadata": {},
     "output_type": "display_data"
    },
    {
     "data": {
      "application/vnd.microsoft.datawrangler.viewer.v0+json": {
       "columns": [
        {
         "name": "index",
         "rawType": "int64",
         "type": "integer"
        },
        {
         "name": "employee",
         "rawType": "object",
         "type": "string"
        },
        {
         "name": "hire_date",
         "rawType": "int64",
         "type": "integer"
        }
       ],
       "ref": "f70fdc35-61e2-4974-967e-9ad719aecb9b",
       "rows": [
        [
         "0",
         "Jyoti",
         "2004"
        ],
        [
         "1",
         "Sapna",
         "2008"
        ],
        [
         "2",
         "Raj",
         "2012"
        ],
        [
         "3",
         "Ramaswamy",
         "2014"
        ]
       ],
       "shape": {
        "columns": 2,
        "rows": 4
       }
      },
      "text/html": [
       "<div>\n",
       "<style scoped>\n",
       "    .dataframe tbody tr th:only-of-type {\n",
       "        vertical-align: middle;\n",
       "    }\n",
       "\n",
       "    .dataframe tbody tr th {\n",
       "        vertical-align: top;\n",
       "    }\n",
       "\n",
       "    .dataframe thead th {\n",
       "        text-align: right;\n",
       "    }\n",
       "</style>\n",
       "<table border=\"1\" class=\"dataframe\">\n",
       "  <thead>\n",
       "    <tr style=\"text-align: right;\">\n",
       "      <th></th>\n",
       "      <th>employee</th>\n",
       "      <th>hire_date</th>\n",
       "    </tr>\n",
       "  </thead>\n",
       "  <tbody>\n",
       "    <tr>\n",
       "      <th>0</th>\n",
       "      <td>Jyoti</td>\n",
       "      <td>2004</td>\n",
       "    </tr>\n",
       "    <tr>\n",
       "      <th>1</th>\n",
       "      <td>Sapna</td>\n",
       "      <td>2008</td>\n",
       "    </tr>\n",
       "    <tr>\n",
       "      <th>2</th>\n",
       "      <td>Raj</td>\n",
       "      <td>2012</td>\n",
       "    </tr>\n",
       "    <tr>\n",
       "      <th>3</th>\n",
       "      <td>Ramaswamy</td>\n",
       "      <td>2014</td>\n",
       "    </tr>\n",
       "  </tbody>\n",
       "</table>\n",
       "</div>"
      ],
      "text/plain": [
       "    employee  hire_date\n",
       "0      Jyoti       2004\n",
       "1      Sapna       2008\n",
       "2        Raj       2012\n",
       "3  Ramaswamy       2014"
      ]
     },
     "metadata": {},
     "output_type": "display_data"
    }
   ],
   "source": [
    "df1 = pd.DataFrame({'employee': ['Jyoti', 'Sapna', 'Raj', 'Ramaswamy'],\n",
    "                    'group': ['Accounting', 'Engineering', 'Engineering', 'HR']})\n",
    "df2 = pd.DataFrame({'employee': ['Jyoti', 'Sapna', 'Raj', 'Ramaswamy'],\n",
    "                    'hire_date': [2004, 2008, 2012, 2014]})\n",
    "display(df1,df2)\n",
    "\n"
   ]
  },
  {
   "cell_type": "code",
   "execution_count": 35,
   "id": "026a6326",
   "metadata": {},
   "outputs": [],
   "source": [
    "df = pd.merge(df1, df2)"
   ]
  },
  {
   "cell_type": "code",
   "execution_count": 36,
   "id": "c0fc224e",
   "metadata": {},
   "outputs": [
    {
     "data": {
      "application/vnd.microsoft.datawrangler.viewer.v0+json": {
       "columns": [
        {
         "name": "index",
         "rawType": "int64",
         "type": "integer"
        },
        {
         "name": "employee",
         "rawType": "object",
         "type": "string"
        },
        {
         "name": "group",
         "rawType": "object",
         "type": "string"
        },
        {
         "name": "hire_date",
         "rawType": "int64",
         "type": "integer"
        }
       ],
       "ref": "df0ebf6f-b66c-4374-b952-0f277659c5d1",
       "rows": [
        [
         "0",
         "Jyoti",
         "Accounting",
         "2004"
        ],
        [
         "1",
         "Sapna",
         "Engineering",
         "2008"
        ],
        [
         "2",
         "Raj",
         "Engineering",
         "2012"
        ],
        [
         "3",
         "Ramaswamy",
         "HR",
         "2014"
        ]
       ],
       "shape": {
        "columns": 3,
        "rows": 4
       }
      },
      "text/html": [
       "<div>\n",
       "<style scoped>\n",
       "    .dataframe tbody tr th:only-of-type {\n",
       "        vertical-align: middle;\n",
       "    }\n",
       "\n",
       "    .dataframe tbody tr th {\n",
       "        vertical-align: top;\n",
       "    }\n",
       "\n",
       "    .dataframe thead th {\n",
       "        text-align: right;\n",
       "    }\n",
       "</style>\n",
       "<table border=\"1\" class=\"dataframe\">\n",
       "  <thead>\n",
       "    <tr style=\"text-align: right;\">\n",
       "      <th></th>\n",
       "      <th>employee</th>\n",
       "      <th>group</th>\n",
       "      <th>hire_date</th>\n",
       "    </tr>\n",
       "  </thead>\n",
       "  <tbody>\n",
       "    <tr>\n",
       "      <th>0</th>\n",
       "      <td>Jyoti</td>\n",
       "      <td>Accounting</td>\n",
       "      <td>2004</td>\n",
       "    </tr>\n",
       "    <tr>\n",
       "      <th>1</th>\n",
       "      <td>Sapna</td>\n",
       "      <td>Engineering</td>\n",
       "      <td>2008</td>\n",
       "    </tr>\n",
       "    <tr>\n",
       "      <th>2</th>\n",
       "      <td>Raj</td>\n",
       "      <td>Engineering</td>\n",
       "      <td>2012</td>\n",
       "    </tr>\n",
       "    <tr>\n",
       "      <th>3</th>\n",
       "      <td>Ramaswamy</td>\n",
       "      <td>HR</td>\n",
       "      <td>2014</td>\n",
       "    </tr>\n",
       "  </tbody>\n",
       "</table>\n",
       "</div>"
      ],
      "text/plain": [
       "    employee        group  hire_date\n",
       "0      Jyoti   Accounting       2004\n",
       "1      Sapna  Engineering       2008\n",
       "2        Raj  Engineering       2012\n",
       "3  Ramaswamy           HR       2014"
      ]
     },
     "execution_count": 36,
     "metadata": {},
     "output_type": "execute_result"
    }
   ],
   "source": [
    "df"
   ]
  },
  {
   "cell_type": "code",
   "execution_count": null,
   "id": "ef574581",
   "metadata": {},
   "outputs": [],
   "source": [
    "pd.read"
   ]
  },
  {
   "cell_type": "code",
   "execution_count": 39,
   "id": "7f0c3060",
   "metadata": {},
   "outputs": [
    {
     "name": "stdout",
     "output_type": "stream",
     "text": [
      "27\n"
     ]
    }
   ],
   "source": [
    "rng = np.array(list(range(10,20)))\n",
    "\n",
    "ser = pd.Series(rng)\n",
    "\n",
    "ser+=10\n",
    "\n",
    "print(ser.iloc[7])"
   ]
  },
  {
   "cell_type": "code",
   "execution_count": 40,
   "id": "12543577",
   "metadata": {},
   "outputs": [
    {
     "name": "stdout",
     "output_type": "stream",
     "text": [
      "20\n"
     ]
    }
   ],
   "source": [
    "import pandas as pd\n",
    "\n",
    "ser = pd.Series([10,20,30,40,50], index = [1,2,3,4,5])\n",
    "\n",
    "print(ser.iloc[1])"
   ]
  },
  {
   "cell_type": "code",
   "execution_count": null,
   "id": "2f48157b",
   "metadata": {},
   "outputs": [],
   "source": []
  }
 ],
 "metadata": {
  "kernelspec": {
   "display_name": ".venv",
   "language": "python",
   "name": "python3"
  },
  "language_info": {
   "codemirror_mode": {
    "name": "ipython",
    "version": 3
   },
   "file_extension": ".py",
   "mimetype": "text/x-python",
   "name": "python",
   "nbconvert_exporter": "python",
   "pygments_lexer": "ipython3",
   "version": "3.13.5"
  }
 },
 "nbformat": 4,
 "nbformat_minor": 5
}
