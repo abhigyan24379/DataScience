{
 "cells": [
  {
   "cell_type": "markdown",
   "id": "3f29126f",
   "metadata": {},
   "source": [
    "#### Regularization Techinque: Lasso and Ridge Regression \n",
    "- What is Regularization?\n",
    "    - Technique used to prevent overfitting by adding a penalty term to the cost function of a regression model \n",
    "- Types of Regularization \n",
    "    - Ridge Regression (L2 Regression)"
   ]
  }
 ],
 "metadata": {
  "language_info": {
   "name": "python"
  }
 },
 "nbformat": 4,
 "nbformat_minor": 5
}
