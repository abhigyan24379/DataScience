{
 "cells": [
  {
   "cell_type": "code",
   "execution_count": 8,
   "id": "dd966610",
   "metadata": {},
   "outputs": [],
   "source": [
    "import numpy as np \n",
    "import pandas as pd\n",
    "from sklearn.model_selection import train_test_split\n",
    "from sklearn.linear_model import LinearRegression, LogisticRegression\n",
    "from sklearn.metrics import accuracy_score, precision_score, f1_score, classification_report\n"
   ]
  },
  {
   "cell_type": "code",
   "execution_count": 7,
   "id": "834737fd",
   "metadata": {},
   "outputs": [
    {
     "ename": "AttributeError",
     "evalue": "'tuple' object has no attribute 'astype'",
     "output_type": "error",
     "traceback": [
      "\u001b[31m---------------------------------------------------------------------------\u001b[39m",
      "\u001b[31mAttributeError\u001b[39m                            Traceback (most recent call last)",
      "\u001b[36mCell\u001b[39m\u001b[36m \u001b[39m\u001b[32mIn[7]\u001b[39m\u001b[32m, line 4\u001b[39m\n\u001b[32m      2\u001b[39m n_samples = \u001b[32m200\u001b[39m\n\u001b[32m      3\u001b[39m x= np.random.rand(n_samples, \u001b[32m2\u001b[39m) * \u001b[32m10\u001b[39m\n\u001b[32m----> \u001b[39m\u001b[32m4\u001b[39m y = \u001b[43m(\u001b[49m\u001b[43mx\u001b[49m\u001b[43m[\u001b[49m\u001b[43m:\u001b[49m\u001b[43m,\u001b[49m\u001b[32;43m0\u001b[39;49m\u001b[43m]\u001b[49m\u001b[43m \u001b[49m\u001b[43m*\u001b[49m\u001b[43m \u001b[49m\u001b[32;43m1\u001b[39;49m\u001b[43m,\u001b[49m\u001b[43m \u001b[49m\u001b[32;43m5\u001b[39;49m\u001b[43m+\u001b[49m\u001b[43m \u001b[49m\u001b[43mx\u001b[49m\u001b[43m[\u001b[49m\u001b[43m:\u001b[49m\u001b[43m,\u001b[49m\u001b[32;43m1\u001b[39;49m\u001b[43m]\u001b[49m\u001b[43m \u001b[49m\u001b[43m>\u001b[49m\u001b[32;43m15\u001b[39;49m\u001b[43m)\u001b[49m\u001b[43m.\u001b[49m\u001b[43mastype\u001b[49m(\u001b[38;5;28mint\u001b[39m)  \u001b[38;5;66;03m# this line creastes a binary target variable which is 1 if the sum of the two features is greater than 15,and 0 otherwise \u001b[39;00m\n",
      "\u001b[31mAttributeError\u001b[39m: 'tuple' object has no attribute 'astype'"
     ]
    }
   ],
   "source": [
    "np.random.seed(42)\n",
    "n_samples = 200\n",
    "x= np.random.rand(n_samples, 2) * 10\n",
    "y = (x[:,0] * 1, 5+ x[:,1] >15).astype(int)  # this line creastes a binary target variable which is 1 if the sum of the two features is greater than 15,and 0 otherwise \n"
   ]
  },
  {
   "cell_type": "code",
   "execution_count": null,
   "id": "57d8366a",
   "metadata": {},
   "outputs": [],
   "source": [
    "df = pd.dataFrame(x, columns=['Age', 'Salary'])\n",
    "df ['Purchase'] = y\n",
    "\n",
    "x_train, x_test, y_test, y_train = train_test_split(df['Age','Salary'], df['Purchase'], test_size=0.2, random_state=42)\n",
    "\n",
    "\n",
    "#Train logistic regression model\n",
    "model = LogisticRegression()\n",
    "model.fit(x_train, y_train)\n",
    "\n"
   ]
  }
 ],
 "metadata": {
  "kernelspec": {
   "display_name": ".venv",
   "language": "python",
   "name": "python3"
  },
  "language_info": {
   "codemirror_mode": {
    "name": "ipython",
    "version": 3
   },
   "file_extension": ".py",
   "mimetype": "text/x-python",
   "name": "python",
   "nbconvert_exporter": "python",
   "pygments_lexer": "ipython3",
   "version": "3.13.5"
  }
 },
 "nbformat": 4,
 "nbformat_minor": 5
}
