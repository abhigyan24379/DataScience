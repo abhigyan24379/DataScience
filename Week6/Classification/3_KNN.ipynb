{
 "cells": [
  {
   "cell_type": "markdown",
   "id": "1cdf80a1",
   "metadata": {},
   "source": [
    "### Introduction to k-nearest neghbors (KNN) Algorithm and its application\n",
    "#### what is knearest neighbors?\n",
    "- key characteristics \n",
    "    - instance based learning\n",
    "    - distance metrics \n",
    "    - classification\n",
    "    - regression \n",
    "- Applications \n",
    "    - Image recognition\n",
    "    - recommendation systems\n",
    "    - medical diagnosis \n",
    "    - customer segmentation \n",
    "    "
   ]
  },
  {
   "cell_type": "markdown",
   "id": "5edf3210",
   "metadata": {},
   "source": [
    "## How KNN works for classification and regression\n",
    "- step by step process \n",
    "    - feature scaling \n",
    "    - calculate distances \n",
    "    - identify k Nearest Neighbors \n",
    "    - make predication \n",
    "        - classification :- Assign the class most common among the k neighbors, which is also called as the majority vote and  \n",
    "        - Regression:- predict the mean or weighted average of the target values of the k neighbors \n",
    "        "
   ]
  },
  {
   "cell_type": "markdown",
   "id": "731d311f",
   "metadata": {},
   "source": [
    "### choosing the optimal values of k \n",
    "- choosing k \n",
    "    - small k \n",
    "        - high sensitivity to noise \n",
    "        - captures local variation in data \n",
    "    - large k \n",
    "        - smoother decision boundaries but miss finer details \n",
    "    - common practice \n",
    "        - use cross validation to determine the optimal vbalue of k   "
   ]
  },
  {
   "cell_type": "markdown",
   "id": "a0c67841",
   "metadata": {},
   "source": [
    "### understanding the models limitations\n",
    "- computationally expensive\n",
    "    - predictions require distance computation for all training sample \n",
    "- feature scaling dependence\n",
    "    - requires proper scaling to avoid feature dominance \n",
    "- not robust to imbalance data \n",
    "    - classes with mor smaples can dominate predications \n",
    "    "
   ]
  },
  {
   "cell_type": "code",
   "execution_count": 2,
   "id": "342dc656",
   "metadata": {},
   "outputs": [],
   "source": [
    "from sklearn.datasets import load_iris\n",
    "from sklearn.model_selection import train_test_split\n",
    "from sklearn.preprocessing import StandardScaler\n",
    "from sklearn.neighbors import KNeighborsClassifier\n",
    "from sklearn.metrics import accuracy_score , classification_report"
   ]
  },
  {
   "cell_type": "code",
   "execution_count": 5,
   "id": "d69bf795",
   "metadata": {},
   "outputs": [],
   "source": [
    "data = load_iris()\n",
    "x, y = data.data , data.target"
   ]
  },
  {
   "cell_type": "code",
   "execution_count": 6,
   "id": "f7b0c7f7",
   "metadata": {},
   "outputs": [],
   "source": [
    "x_train , x_test, y_train, y_test = train_test_split(x,y,test_size=0.2, random_state=42)"
   ]
  },
  {
   "cell_type": "code",
   "execution_count": 7,
   "id": "b1a5170c",
   "metadata": {},
   "outputs": [],
   "source": [
    "#scale features \n",
    "scaler = StandardScaler()\n",
    "x_train = scaler.fit_transform(x_train)\n",
    "x_test = scaler.transform(x_test)"
   ]
  },
  {
   "cell_type": "code",
   "execution_count": 8,
   "id": "4bce9dff",
   "metadata": {},
   "outputs": [
    {
     "name": "stdout",
     "output_type": "stream",
     "text": [
      "k = 1, Accuracy = 1.0000\n",
      "k = 2, Accuracy = 1.0000\n",
      "k = 3, Accuracy = 1.0000\n",
      "k = 4, Accuracy = 1.0000\n",
      "k = 5, Accuracy = 1.0000\n",
      "k = 6, Accuracy = 1.0000\n",
      "k = 7, Accuracy = 1.0000\n",
      "k = 8, Accuracy = 1.0000\n",
      "k = 9, Accuracy = 1.0000\n",
      "k = 10, Accuracy = 1.0000\n"
     ]
    }
   ],
   "source": [
    "# experiment with different values of k \n",
    "for k in range(1,11):\n",
    "    # Initialize k-nn model \n",
    "    knn = KNeighborsClassifier(n_neighbors=k)\n",
    "    knn.fit(x_train, y_train)\n",
    "    \n",
    "    # now predicting \n",
    "    y_pred = knn.predict(x_test)\n",
    "    \n",
    "    # Evaluate performance \n",
    "    accuracy = accuracy_score(y_test, y_pred)\n",
    "    print(f\"k = {k}, Accuracy = {accuracy:.4f}\")"
   ]
  },
  {
   "cell_type": "code",
   "execution_count": 9,
   "id": "d5feab44",
   "metadata": {},
   "outputs": [],
   "source": [
    "from sklearn.linear_model import LogisticRegression"
   ]
  },
  {
   "cell_type": "code",
   "execution_count": 10,
   "id": "01c49bec",
   "metadata": {},
   "outputs": [
    {
     "name": "stdout",
     "output_type": "stream",
     "text": [
      "LogisticRegression accuracy :  1.0\n"
     ]
    }
   ],
   "source": [
    "log_reg = LogisticRegression(max_iter=200)\n",
    "log_reg.fit(x_train, y_train)\n",
    "y_pred_lr = log_reg.predict(x_test)\n",
    "\n",
    "accuracy_lr = accuracy_score(y_test, y_pred_lr )\n",
    "\n",
    "print(\"LogisticRegression accuracy : \", accuracy_lr)\n"
   ]
  },
  {
   "cell_type": "code",
   "execution_count": 11,
   "id": "329b963b",
   "metadata": {},
   "outputs": [
    {
     "name": "stdout",
     "output_type": "stream",
     "text": [
      "KNN accuracy :  1.0\n"
     ]
    }
   ],
   "source": [
    "best_k = 5\n",
    "knn= KNeighborsClassifier(n_neighbors=best_k)\n",
    "knn.fit(x_train, y_train)\n",
    "y_pred_knn = knn.predict(x_test)\n",
    "print(\"KNN accuracy : \", accuracy_score(y_test, y_pred_knn))"
   ]
  },
  {
   "cell_type": "code",
   "execution_count": null,
   "id": "4a3c41ca",
   "metadata": {},
   "outputs": [],
   "source": []
  }
 ],
 "metadata": {
  "kernelspec": {
   "display_name": ".venv",
   "language": "python",
   "name": "python3"
  },
  "language_info": {
   "codemirror_mode": {
    "name": "ipython",
    "version": 3
   },
   "file_extension": ".py",
   "mimetype": "text/x-python",
   "name": "python",
   "nbconvert_exporter": "python",
   "pygments_lexer": "ipython3",
   "version": "3.13.5"
  }
 },
 "nbformat": 4,
 "nbformat_minor": 5
}
