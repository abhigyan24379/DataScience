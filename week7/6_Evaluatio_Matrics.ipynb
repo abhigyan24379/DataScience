{
 "cells": [
  {
   "cell_type": "markdown",
   "id": "81e74363",
   "metadata": {},
   "source": [
    "### Evaluation Metrics for Regression\n",
    "- Regression Metrics\n",
    "    - Mean absolute error(MAE)\n",
    "        - measures the avg magnitude of errors without considering their direction \n",
    "        - use case: suitable when all errors have equal importance \n",
    "    - Mean squared error(MSE)\n",
    "        - measures the avg of squared difference between actual and predicted values \n",
    "        - use case : penalizes larger errors more than MAE making it sensitive to outliers \n",
    "    - Root mean squared error (RMSE)\n",
    "        - square root of mse, providing errors in the same units as the target variable\n",
    "        - use case: a common metric for interpretability in real world units \n",
    "    - R-squared\n",
    "        - measures how well the model explain the variability of the target variable \n",
    "        - use case : indicates the proportion of variance explained by the model\n",
    "### Evaluation matrics for classification \n",
    "- Classification Metrics \n",
    "    - Accuracy\n",
    "        - Percentage of correctly classified instances\n",
    "        - use case: suitable for balanced satasets but misleading for imbalanced data \n",
    "    - Precision\n",
    "        - Fraction of true positive predictions among all positive predications \n",
    "        - use case : important when false positives are costly(eg detection)\n",
    "    - Recall(Sensitivity)\n",
    "        - Fraction of true positives identified among all actual positives\n",
    "        - use case : critical in situations where missing positives are costly(eg: Medical diagnosis)\n",
    "    - F1 score\n",
    "        - Harmonic mean of precision and recall \n",
    "        - use case : Useful for imbalanced datasets\n",
    "    - ROC-AUC\n",
    "        - measures the ability of the model to idstinguish between classes \n",
    "        - use case important for evaluating binary classifiers\n",
    "### Understanding when to use each metric \n",
    "- Regression \n",
    "    - use MAE for interpretability and uniform importance of errors \n",
    "    - Use MSE/RMSE where larger errors need greater penalization \n",
    "    -use R square to explain variance but not as a sole performance metric \n",
    "- Classification\n",
    "    - use accuracy for balanced datasets\n",
    "    - use precision and recall for imbalanced datasets, depending on the problems focus (eg minimizing false +ve or false -ve )\n",
    "    - use F1 score for balanced evaluation of precision and recall \n",
    "    - use Roc-Auc for overall model performance evaluation in binary classification \n",
    "    \n"
   ]
  },
  {
   "cell_type": "markdown",
   "id": "fd174f4a",
   "metadata": {},
   "source": [
    "## Exercise 1: Classification Model | Evaluation \n",
    "- Objective \n",
    "    - Train a classification model, calculate confusion matrix and interpret precision, recall and f1 score \n",
    "    "
   ]
  },
  {
   "cell_type": "code",
   "execution_count": 1,
   "id": "e89155ea",
   "metadata": {},
   "outputs": [],
   "source": [
    "from sklearn.datasets import load_iris\n",
    "from sklearn.model_selection import train_test_split\n",
    "from sklearn.linear_model import LogisticRegression\n",
    "from sklearn.metrics import confusion_matrix, classification_report, ConfusionMatrixDisplay"
   ]
  },
  {
   "cell_type": "code",
   "execution_count": 2,
   "id": "694204b2",
   "metadata": {},
   "outputs": [],
   "source": [
    "data = load_iris()\n",
    "x = data.data\n",
    "y = (data.target == 0).astype(int)\n",
    "\n",
    "x_train, x_test, y_train, y_test = train_test_split(x, y, test_size=0.2, random_state=42)\n",
    "\n",
    "model = LogisticRegression()\n",
    "model.fit(x_train, y_train)\n",
    "\n",
    "y_pred = model.predict(x_test)\n"
   ]
  },
  {
   "cell_type": "code",
   "execution_count": 3,
   "id": "e8f3f769",
   "metadata": {},
   "outputs": [
    {
     "data": {
      "image/png": "[encoded data removed]",
      "text/plain": [
       "<Figure size 640x480 with 2 Axes>"
      ]
     },
     "metadata": {},
     "output_type": "display_data"
    }
   ],
   "source": [
    "import matplotlib.pyplot as plt\n",
    "cm = confusion_matrix(y_test, y_pred)\n",
    "disp = ConfusionMatrixDisplay(confusion_matrix=cm, display_labels=[\"Not Class 0\",\"Class 0\"])\n",
    "disp.plot(cmap=\"Blues\")\n",
    "plt.title(\"Confusion Matrix\")\n",
    "plt.show() \n"
   ]
  },
  {
   "cell_type": "code",
   "execution_count": 4,
   "id": "c6357ff7",
   "metadata": {},
   "outputs": [
    {
     "name": "stdout",
     "output_type": "stream",
     "text": [
      "\n",
      " Classification Report: \n",
      "              precision    recall  f1-score   support\n",
      "\n",
      "           0       1.00      1.00      1.00        20\n",
      "           1       1.00      1.00      1.00        10\n",
      "\n",
      "    accuracy                           1.00        30\n",
      "   macro avg       1.00      1.00      1.00        30\n",
      "weighted avg       1.00      1.00      1.00        30\n",
      "\n"
     ]
    }
   ],
   "source": [
    "print(\"\\n Classification Report: \")\n",
    "print(classification_report(y_test, y_pred))"
   ]
  },
  {
   "cell_type": "markdown",
   "id": "0a30cb84",
   "metadata": {},
   "source": [
    "### Exercise 2: Regression Model Evaluation\n",
    "- Objective \n",
    "    - Train a regression model evaluate its performance using MAE, MSE, R square "
   ]
  },
  {
   "cell_type": "code",
   "execution_count": 5,
   "id": "cdefa1a8",
   "metadata": {},
   "outputs": [],
   "source": [
    "from sklearn.datasets import fetch_california_housing\n",
    "from sklearn.linear_model import LinearRegression\n",
    "from sklearn.metrics import mean_absolute_error, mean_squared_error, r2_score\n"
   ]
  },
  {
   "cell_type": "code",
   "execution_count": 6,
   "id": "0d073cdc",
   "metadata": {},
   "outputs": [],
   "source": [
    "data = fetch_california_housing()\n",
    "x,y = data.data, data.target"
   ]
  },
  {
   "cell_type": "code",
   "execution_count": 7,
   "id": "a0f08703",
   "metadata": {},
   "outputs": [],
   "source": [
    "x_train, x_test, y_train, y_test = train_test_split(x, y, test_size=0.2, random_state=42)\n",
    "\n",
    "model = LinearRegression()\n",
    "model.fit(x_train, y_train)\n",
    "\n",
    "y_pred = model.predict(x_test)\n"
   ]
  },
  {
   "cell_type": "code",
   "execution_count": 8,
   "id": "21a685d2",
   "metadata": {},
   "outputs": [
    {
     "data": {
      "text/plain": [
       "array([0.71912284, 1.76401657, 2.70965883, ..., 4.46877017, 1.18751119,\n",
       "       2.00940251], shape=(4128,))"
      ]
     },
     "execution_count": 8,
     "metadata": {},
     "output_type": "execute_result"
    }
   ],
   "source": [
    "y_pred"
   ]
  },
  {
   "cell_type": "code",
   "execution_count": 9,
   "id": "a171b74f",
   "metadata": {},
   "outputs": [],
   "source": [
    "mae = mean_absolute_error(y_test, y_pred)\n",
    "mse = mean_squared_error(y_test, y_pred)\n",
    "r2 = r2_score(y_test,y_pred)"
   ]
  },
  {
   "cell_type": "code",
   "execution_count": 12,
   "id": "d7026d7c",
   "metadata": {},
   "outputs": [
    {
     "name": "stdout",
     "output_type": "stream",
     "text": [
      "mean_absolute_error : 0.533\n",
      "mean_squared_error : 0.556\n",
      "r2_score : 0.58\n"
     ]
    }
   ],
   "source": [
    "print(f\"mean_absolute_error : {mae:.3f}\")\n",
    "print(f\"mean_squared_error : {mse:.3f}\")\n",
    "print(f\"r2_score : {r2:.2f}\")"
   ]
  },
  {
   "cell_type": "code",
   "execution_count": null,
   "id": "27f2d215",
   "metadata": {},
   "outputs": [],
   "source": []
  }
 ],
 "metadata": {
  "kernelspec": {
   "display_name": ".venv",
   "language": "python",
   "name": "python3"
  },
  "language_info": {
   "codemirror_mode": {
    "name": "ipython",
    "version": 3
   },
   "file_extension": ".py",
   "mimetype": "text/x-python",
   "name": "python",
   "nbconvert_exporter": "python",
   "pygments_lexer": "ipython3",
   "version": "3.13.5"
  }
 },
 "nbformat": 4,
 "nbformat_minor": 5
}
