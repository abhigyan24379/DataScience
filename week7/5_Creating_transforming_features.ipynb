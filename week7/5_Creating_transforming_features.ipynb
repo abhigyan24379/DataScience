{
 "cells": [
  {
   "cell_type": "markdown",
   "id": "bab9cdc4",
   "metadata": {},
   "source": [
    "### Freature creation \n",
    "- what is feature creation?\n",
    "    - feature creation involves deriving new, meaningful features from existing ones to enhance a model's ability to capture important patterns in the data \n",
    "- examples of feature creation \n",
    "    - date time feature \n",
    "    - interaction features\n",
    "    - aggregations\n",
    "- importance\n",
    "    - adds domain knowledge to the dataset\n",
    "    - captures hidden patterns and trends not evident in the original features \n",
    "### Transforming features \n",
    "- what is feature transformation ?\n",
    "    - feature transformation modifies existing features to better suit the learning algorithm ( this is especially important for handling skewed distribution or non linear relationship)\n",
    "- common transformation\n",
    "    - logarithmic transformation \n",
    "        - which reduces skewness in highly skewed distribution \n",
    "    - squared Root Transformation \n",
    "        - moderately reduce skewness often used for count data \n",
    "    - Polynomial transformation \n",
    "        - adds higher order terms(x^2, x^3) to capturre non linear relationship \n",
    "- importance\n",
    "    - enhances the model's ability to fit non linear relationship \n",
    "    - makes distribution more normal like aiding algorithm that assume normality \n",
    "### Importance of feature transformation in non linear relationship \n",
    "- Transformation allow linear model to handle non linear realtionship \n",
    "    - for example \n",
    "        - polynomial transformation enable linear regression to model quadratic patterns \n",
    "        - logarithmic transformation stablize variance and handle skewness \n",
    "- By transforming features models become more robust and capable of capturing complex pattern in data "
   ]
  },
  {
   "cell_type": "code",
   "execution_count": null,
   "id": "1d584e90",
   "metadata": {},
   "outputs": [],
   "source": []
  },
  {
   "cell_type": "code",
   "execution_count": null,
   "id": "94f6d087",
   "metadata": {},
   "outputs": [],
   "source": []
  }
 ],
 "metadata": {
  "kernelspec": {
   "display_name": ".venv",
   "language": "python",
   "name": "python3"
  },
  "language_info": {
   "name": "python",
   "version": "3.13.5"
  }
 },
 "nbformat": 4,
 "nbformat_minor": 5
}
