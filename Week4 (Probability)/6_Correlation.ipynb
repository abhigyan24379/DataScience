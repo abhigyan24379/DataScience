{
 "cells": [
  {
   "cell_type": "code",
   "execution_count": 1,
   "id": "011363ac",
   "metadata": {},
   "outputs": [],
   "source": [
    "import numpy as np\n",
    "from scipy.stats import pearsonr, spearmanr"
   ]
  },
  {
   "cell_type": "code",
   "execution_count": 2,
   "id": "b33615db",
   "metadata": {},
   "outputs": [
    {
     "name": "stdout",
     "output_type": "stream",
     "text": [
      "pearson correlation coefficeient:  1.0\n",
      "Spearman correlation coefficient:  0.9999999999999999\n"
     ]
    }
   ],
   "source": [
    "x = np.array([1,2,3,4,5])\n",
    "y = np.array([2,4,6,8,10])\n",
    "\n",
    "r, _ = pearsonr(x,y)\n",
    "print(\"pearson correlation coefficeient: \", r )\n",
    "\n",
    "rho , _ = spearmanr(x,y )\n",
    "print(\"Spearman correlation coefficient: \", rho)"
   ]
  },
  {
   "cell_type": "code",
   "execution_count": 3,
   "id": "ec1ce5b9",
   "metadata": {},
   "outputs": [],
   "source": [
    "from sklearn.linear_model import LinearRegression\n",
    "import numpy as np\n"
   ]
  },
  {
   "cell_type": "code",
   "execution_count": 4,
   "id": "2f15643e",
   "metadata": {},
   "outputs": [
    {
     "name": "stdout",
     "output_type": "stream",
     "text": [
      "Slope:  2.0\n",
      "Intercept:  -0.20000000000000018\n",
      "R-Squared:  0.9803921568627451\n"
     ]
    }
   ],
   "source": [
    "x = np.array([1,2,3,4,5]).reshape(-1,1)\n",
    "y = np.array([2,4,5,8,10])\n",
    "\n",
    "model = LinearRegression()\n",
    "model.fit(x,y)\n",
    "\n",
    "print(\"Slope: \", model.coef_[0])\n",
    "print(\"Intercept: \", model.intercept_)\n",
    "print(\"R-Squared: \", model.score(x,y))\n"
   ]
  },
  {
   "cell_type": "code",
   "execution_count": null,
   "id": "c6dac7a0",
   "metadata": {},
   "outputs": [],
   "source": []
  }
 ],
 "metadata": {
  "kernelspec": {
   "display_name": ".venv",
   "language": "python",
   "name": "python3"
  },
  "language_info": {
   "codemirror_mode": {
    "name": "ipython",
    "version": 3
   },
   "file_extension": ".py",
   "mimetype": "text/x-python",
   "name": "python",
   "nbconvert_exporter": "python",
   "pygments_lexer": "ipython3",
   "version": "3.13.5"
  }
 },
 "nbformat": 4,
 "nbformat_minor": 5
}
