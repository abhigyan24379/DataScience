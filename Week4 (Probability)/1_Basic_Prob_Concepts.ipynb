{
 "cells": [
  {
   "cell_type": "markdown",
   "id": "c68b95f2",
   "metadata": {},
   "source": [
    "## Basic Probability Concepts\n",
    "#### Sample Space and Events\n",
    "-  Sample Space: the set of all possible ooutcomes of a random experiment \n",
    "- Events: A subset of the sample space\n",
    "#### Conditional Probability \n",
    "- The probability of an event A occuring, given that B has occured "
   ]
  },
  {
   "cell_type": "code",
   "execution_count": 2,
   "id": "9bc9a232",
   "metadata": {},
   "outputs": [
    {
     "name": "stdout",
     "output_type": "stream",
     "text": [
      "P(Even):  0.5\n"
     ]
    }
   ],
   "source": [
    "from itertools import product\n",
    "\n",
    "sample_space = list(range(1,7)) # Sample space for a single die\n",
    "\n",
    "even_numbers = [2,4,6]\n",
    "p_even = len(even_numbers) / len(sample_space)\n",
    "\n",
    "print(\"P(Even): \", p_even)\n",
    " "
   ]
  },
  {
   "cell_type": "markdown",
   "id": "f11f6b19",
   "metadata": {},
   "source": [
    "### Random Variables\n",
    "- random variables Maps outcomes of a random experiment to numberical values \n",
    "- type - discrete | constinuous\n",
    "\n",
    "#### Probability Mass Function (PMF)\n",
    "- probability distribution of a discrete random variable \n",
    "\n",
    "#### Probability density function (PDF)\n",
    "- probability distribution of a continuous random variable \n"
   ]
  },
  {
   "cell_type": "code",
   "execution_count": 3,
   "id": "c4fbf600",
   "metadata": {},
   "outputs": [
    {
     "name": "stdout",
     "output_type": "stream",
     "text": [
      "Expected Value:  3.5\n",
      "Variance:  2.9166666666666665\n",
      "Standard Deviation:  1.707825127659933\n"
     ]
    }
   ],
   "source": [
    "import numpy as np \n",
    "\n",
    "outcomes = np.array([1,2,3,4,5,6])\n",
    "probability = np.array([1/6]*6)\n",
    "\n",
    "expected_value = np.sum(outcomes * probability)\n",
    "print(\"Expected Value: \", expected_value)\n",
    "\n",
    "variance = np.sum((outcomes - expected_value)**2 * probability)\n",
    "print(\"Variance: \", variance)\n",
    "\n",
    "std_dev = np.sqrt(variance)\n",
    "print(\"Standard Deviation: \", std_dev)"
   ]
  },
  {
   "cell_type": "code",
   "execution_count": 5,
   "id": "e27a5856",
   "metadata": {},
   "outputs": [
    {
     "name": "stdout",
     "output_type": "stream",
     "text": [
      "P(even):  0.5036\n",
      "P(Greater than 4):  0.327\n"
     ]
    }
   ],
   "source": [
    "# Exercise 1 :\n",
    "\n",
    "rolls = np.random.randint(1,7, size=10000)\n",
    "\n",
    "#calculate probability \n",
    "p_even = np.sum(rolls % 2 == 0)/len(rolls)\n",
    "p_greater_than_4 = np.sum(rolls > 4) / len(rolls)\n",
    "\n",
    "print(\"P(even): \", p_even)\n",
    "print(\"P(Greater than 4): \", p_greater_than_4)"
   ]
  },
  {
   "cell_type": "code",
   "execution_count": 7,
   "id": "21d68439",
   "metadata": {},
   "outputs": [
    {
     "data": {
      "image/png": "[encoded data removed]",
      "text/plain": [
       "<Figure size 640x480 with 1 Axes>"
      ]
     },
     "metadata": {},
     "output_type": "display_data"
    }
   ],
   "source": [
    "# Exercise 2 : Create and Ananlyze the Random variable\n",
    "import matplotlib.pyplot as plt \n",
    "from scipy.stats import uniform\n",
    "\n",
    "outcomes = [1,2,3,4,5,6]\n",
    "probability = [1/6]* 6 \n",
    "\n",
    "plt.bar(outcomes, probability , color ='blue', alpha=0.7) # alpha is for transparency of the bars \n",
    "plt.title(\"PMF of a Dice roll\")\n",
    "\n",
    "plt.xlabel(\"Outcomes\")\n",
    "plt.ylabel(\"Probability\")\n",
    "plt.show()"
   ]
  },
  {
   "cell_type": "code",
   "execution_count": null,
   "id": "596bf3fe",
   "metadata": {},
   "outputs": [],
   "source": []
  }
 ],
 "metadata": {
  "kernelspec": {
   "display_name": ".venv",
   "language": "python",
   "name": "python3"
  },
  "language_info": {
   "codemirror_mode": {
    "name": "ipython",
    "version": 3
   },
   "file_extension": ".py",
   "mimetype": "text/x-python",
   "name": "python",
   "nbconvert_exporter": "python",
   "pygments_lexer": "ipython3",
   "version": "3.13.5"
  }
 },
 "nbformat": 4,
 "nbformat_minor": 5
}
