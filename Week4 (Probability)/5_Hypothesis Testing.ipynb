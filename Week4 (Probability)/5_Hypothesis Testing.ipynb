{
 "cells": [
  {
   "cell_type": "markdown",
   "id": "32e8b8f8",
   "metadata": {},
   "source": [
    "#### What is hypothesis Testing ?\n",
    "- Statistical method to determine if there is enough evidence in a sample to infer a conclusion about the population\n",
    "#### Key Components \n",
    "- Null hypothesis: Assumes no effect or no difference \n",
    "- Alternative Hypothesis: Indicates an effect or difference \n",
    "#### Steps in Hypothesis testing \n",
    "- Formulate null hypothesis and alternative hypothesis \n",
    "- Choose a significance level(alpha) - common values are 0.05 or 0.01\n",
    "- calculate the test statistic \n",
    "- determine the p - value \n",
    "- compare the p - value to alpha :\n",
    "      - if p < alpha , reject null hypothesis | if p > a ,fail to reject null hypothesis "
   ]
  },
  {
   "cell_type": "code",
   "execution_count": 1,
   "id": "06a44557",
   "metadata": {},
   "outputs": [],
   "source": [
    "import numpy as np \n",
    "from scipy.stats import ttest_1samp"
   ]
  },
  {
   "cell_type": "code",
   "execution_count": 2,
   "id": "f498d0d3",
   "metadata": {},
   "outputs": [
    {
     "name": "stdout",
     "output_type": "stream",
     "text": [
      "T-statistic:  1.009705824364466\n",
      "p-value:  0.3589737924871565\n",
      "Fail to reject the null hypothesis  \n"
     ]
    }
   ],
   "source": [
    "data = [ 12,14,15,126,17,18]\n",
    "population_mean= 15\n",
    "t_stat, p_value = ttest_1samp(data, population_mean)\n",
    "print(\"T-statistic: \", t_stat)\n",
    "print(\"p-value: \", p_value)\n",
    "\n",
    "alpha = 0.05\n",
    "if p_value <= alpha :\n",
    "    print(\"Reject the null hypothesis: \" )\n",
    "    \n",
    "else: \n",
    "    print(\"Fail to reject the null hypothesis  \")"
   ]
  },
  {
   "cell_type": "code",
   "execution_count": null,
   "id": "59ce6472",
   "metadata": {},
   "outputs": [],
   "source": []
  }
 ],
 "metadata": {
  "kernelspec": {
   "display_name": ".venv",
   "language": "python",
   "name": "python3"
  },
  "language_info": {
   "codemirror_mode": {
    "name": "ipython",
    "version": 3
   },
   "file_extension": ".py",
   "mimetype": "text/x-python",
   "name": "python",
   "nbconvert_exporter": "python",
   "pygments_lexer": "ipython3",
   "version": "3.13.5"
  }
 },
 "nbformat": 4,
 "nbformat_minor": 5
}
