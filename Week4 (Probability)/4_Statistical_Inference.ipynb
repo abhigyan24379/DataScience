{
 "cells": [
  {
   "cell_type": "code",
   "execution_count": 3,
   "id": "816eef09",
   "metadata": {},
   "outputs": [],
   "source": [
    "# What is statistical Inference ?\n",
    "# process of making conclusions about a population based on sample data \n",
    "\n"
   ]
  },
  {
   "cell_type": "code",
   "execution_count": 3,
   "id": "7955c4fc",
   "metadata": {},
   "outputs": [
    {
     "name": "stdout",
     "output_type": "stream",
     "text": [
      "(np.float64(13.627991424548375), np.float64(18.086294289737342))\n"
     ]
    }
   ],
   "source": [
    "import numpy as np\n",
    "from scipy.stats import norm, t \n",
    "\n",
    "data = [12 ,14,15,16,17,18,19]\n",
    "\n",
    "# Calculate means and standard deviation \n",
    "mean = np.mean(data)\n",
    "std = np.std(data, ddof=1)\n",
    "\n",
    "# 95% COnfidence Interval (using t_distribution)\n",
    "n = len (data)\n",
    "t_value = t.ppf(0.975, df = n -1 )\n",
    "margin_of_error = t_value * (std/ np.sqrt(n))\n",
    "ci = (mean- margin_of_error, mean + margin_of_error)\n",
    "print(ci)"
   ]
  },
  {
   "cell_type": "code",
   "execution_count": null,
   "id": "90f6b26a",
   "metadata": {},
   "outputs": [],
   "source": []
  },
  {
   "cell_type": "code",
   "execution_count": null,
   "id": "65828634",
   "metadata": {},
   "outputs": [],
   "source": []
  }
 ],
 "metadata": {
  "kernelspec": {
   "display_name": ".venv",
   "language": "python",
   "name": "python3"
  },
  "language_info": {
   "codemirror_mode": {
    "name": "ipython",
    "version": 3
   },
   "file_extension": ".py",
   "mimetype": "text/x-python",
   "name": "python",
   "nbconvert_exporter": "python",
   "pygments_lexer": "ipython3",
   "version": "3.13.5"
  }
 },
 "nbformat": 4,
 "nbformat_minor": 5
}
