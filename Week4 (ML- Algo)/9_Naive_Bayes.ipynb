{
 "cells": [
  {
   "cell_type": "markdown",
   "id": "b39c4b4b",
   "metadata": {},
   "source": [
    "### Naive Bayes \n",
    "- Naive Bayes is a probabilistic classifier based on bayes theorem which assumes that the features are confitoinally independent given the class label. Despite this naive assumption if often perform well in test classification and spam detection tasks"
   ]
  },
  {
   "cell_type": "code",
   "execution_count": 2,
   "id": "c6225c68",
   "metadata": {},
   "outputs": [],
   "source": [
    "from sklearn.naive_bayes import GaussianNB # importing Gaussian naive bayes for classification and regression tasks \n",
    "from sklearn.model_selection import  train_test_split \n",
    "from sklearn.metrics import accuracy_score, confusion_matrix\n",
    "\n",
    "import numpy as np \n",
    "\n"
   ]
  },
  {
   "cell_type": "code",
   "execution_count": 3,
   "id": "e459ff91",
   "metadata": {},
   "outputs": [],
   "source": [
    "x = np.array([[1,50],[2,60],[3,55],[4,70],[5,65],[6,80],[7,75],[8,90],[9,85],[10,100]])\n",
    "y = np.array([0,0,0,1,1,1,1,2,2,2]) \n"
   ]
  },
  {
   "cell_type": "code",
   "execution_count": 4,
   "id": "604e684b",
   "metadata": {},
   "outputs": [],
   "source": [
    "x_trains, x_test, y_train, y_test = train_test_split(x ,y , test_size=0.2, random_state=42)\n",
    "model = GaussianNB()\n",
    "model.fit(x_trains, y_train)\n",
    "\n",
    "y_pred = model.predict(x_test)\n",
    "\n"
   ]
  },
  {
   "cell_type": "code",
   "execution_count": 5,
   "id": "8ba211f0",
   "metadata": {},
   "outputs": [
    {
     "name": "stdout",
     "output_type": "stream",
     "text": [
      "Accuracy: 1.0\n",
      "Confusion Matrix:\n",
      " [[1 0]\n",
      " [0 1]]\n"
     ]
    }
   ],
   "source": [
    "accuracy = accuracy_score(y_test, y_pred)\n",
    "conf_matrix = confusion_matrix(y_test , y_pred)\n",
    "\n",
    "print(\"Accuracy:\", accuracy)\n",
    "print(\"Confusion Matrix:\\n\", conf_matrix)    "
   ]
  },
  {
   "cell_type": "code",
   "execution_count": null,
   "id": "08f3612c",
   "metadata": {},
   "outputs": [],
   "source": []
  }
 ],
 "metadata": {
  "kernelspec": {
   "display_name": ".venv",
   "language": "python",
   "name": "python3"
  },
  "language_info": {
   "codemirror_mode": {
    "name": "ipython",
    "version": 3
   },
   "file_extension": ".py",
   "mimetype": "text/x-python",
   "name": "python",
   "nbconvert_exporter": "python",
   "pygments_lexer": "ipython3",
   "version": "3.13.5"
  }
 },
 "nbformat": 4,
 "nbformat_minor": 5
}
