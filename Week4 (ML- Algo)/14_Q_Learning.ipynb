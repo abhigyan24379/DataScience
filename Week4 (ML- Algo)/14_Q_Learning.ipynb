{
 "cells": [
  {
   "cell_type": "markdown",
   "id": "0a032618",
   "metadata": {},
   "source": [
    "### Q-Learning\n",
    "- Q-learning is a model free reinforcement learning algo used to find the optimal action selection policy for a fiven problem. It learns by intercting with an environment, updating a Q_table (a matrix of state - action values ), and maximizing the expected cumulative reward. Qlearning is effective in problem where the environment can be represented can be represented by discret states and actions\n"
   ]
  },
  {
   "cell_type": "code",
   "execution_count": null,
   "id": "8fbfede6",
   "metadata": {
    "vscode": {
     "languageId": "plaintext"
    }
   },
   "outputs": [],
   "source": []
  }
 ],
 "metadata": {
  "language_info": {
   "name": "python"
  }
 },
 "nbformat": 4,
 "nbformat_minor": 5
}
