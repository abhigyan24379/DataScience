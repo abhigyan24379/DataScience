{
 "cells": [
  {
   "cell_type": "markdown",
   "id": "0406f89d",
   "metadata": {},
   "source": [
    "# Decision Tree\n",
    "- Decision Trees are a versatile supervised learning algorithm used for both classification and regression. they work by recursively splitting the data into subsets based on the feature that provides the most information gain. Each node represents  a decision based on a feature and each leaf node represents a prediction."
   ]
  },
  {
   "cell_type": "code",
   "execution_count": 2,
   "id": "8c9b7828",
   "metadata": {},
   "outputs": [],
   "source": [
    "from sklearn.tree import DecisionTreeClassifier  # decision tree classifier used for classification tasks and regression tasks\n",
    "from sklearn.model_selection import train_test_split\n",
    "from sklearn.metrics import accuracy_score, confusion_matrix\n",
    "import numpy as np \n",
    "\n"
   ]
  },
  {
   "cell_type": "code",
   "execution_count": 3,
   "id": "9b4ecc2c",
   "metadata": {},
   "outputs": [
    {
     "name": "stdout",
     "output_type": "stream",
     "text": [
      "Accuracy :  1.0\n",
      "confusion Matrix : \n",
      " [[1 0]\n",
      " [0 1]]\n"
     ]
    }
   ],
   "source": [
    "nx = np.array([[1,45],[2,50],[3,55],[4,60],[5,65],[6,70],[7,75],[8,80],[9,85],[10,90]])\n",
    "y = np.array([0,0,0,0,1,1,1,1,1,1])  \n",
    "\n",
    "X_train, X_test, y_train, y_test = train_test_split(nx, y, test_size=0.2, random_state=42)  \n",
    "model =DecisionTreeClassifier()  # Create a Decision Tree Classifier\n",
    "model.fit(X_train, y_train)  # Fit the model on the training data\n",
    "y_pred = model.predict(X_test)  # Make predictions on the test data\n",
    "\n",
    "accuracy = accuracy_score(y_test, y_pred)  # Calculate accuracy\n",
    "conf_matrix = confusion_matrix(y_test, y_pred)  # Calculate confusion matrix\n",
    "print(\"Accuracy : \", accuracy)\n",
    "print(\"confusion Matrix : \\n\", conf_matrix  )\n"
   ]
  }
 ],
 "metadata": {
  "kernelspec": {
   "display_name": ".venv",
   "language": "python",
   "name": "python3"
  },
  "language_info": {
   "codemirror_mode": {
    "name": "ipython",
    "version": 3
   },
   "file_extension": ".py",
   "mimetype": "text/x-python",
   "name": "python",
   "nbconvert_exporter": "python",
   "pygments_lexer": "ipython3",
   "version": "3.13.5"
  }
 },
 "nbformat": 4,
 "nbformat_minor": 5
}
