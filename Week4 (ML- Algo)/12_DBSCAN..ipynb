{
 "cells": [
  {
   "cell_type": "markdown",
   "id": "1e3eb41c",
   "metadata": {},
   "source": [
    "### DBSCAN \n",
    "- DBSCAN is an unsupervised clustering algorithm that groups data points based on density, making it particularly effective for identifying cluster of arbitrary shapes and for handling noise (outliers). DBSCAN required two parameters : eps (the maximum distance between two points to be considered neighbors ) and min_sample (the minimum number of points required to form a dense region )"
   ]
  },
  {
   "cell_type": "code",
   "execution_count": 1,
   "id": "42059af8",
   "metadata": {},
   "outputs": [],
   "source": [
    "from sklearn.cluster import DBSCAN\n",
    "import numpy as np"
   ]
  },
  {
   "cell_type": "code",
   "execution_count": 3,
   "id": "8001192d",
   "metadata": {},
   "outputs": [
    {
     "name": "stdout",
     "output_type": "stream",
     "text": [
      "Labels: [ 0  0  0  1  1 -1]\n",
      "Core samples: [0 1 2 3 4]\n"
     ]
    }
   ],
   "source": [
    "x = np.array([[1, 2], [2, 2], [2, 3], [8, 7], [8, 8], [25, 80]])\n",
    "\n",
    "# initialize DBSCAN and fit thewe model\n",
    "dbscan = DBSCAN(eps=3, min_samples=2) # DBSCAN forms a cluster if there are at least min samples points within eps distance \n",
    "# what is eps? eps is the maximum distance between two samples for one to be considered as in the neighborhood of the other.\n",
    "# min_samples is the number of samples in a neighborhood for a point to be considered as a\n",
    "\n",
    "dbscan.fit(x) \n",
    "\n",
    "labels = dbscan.labels_ # labels are the cluster labels assigned to each point\n",
    "print(\"Labels:\", labels)\n",
    "\n",
    "# this algorithm will assign -1 to noise points. which are points that do not belong to any cluster \n",
    "# we can also get the core samples, which are the points that are at the center of the clusters \n",
    "core_samples = dbscan.core_sample_indices_ # these are the indices of the core samples \n",
    "print(\"Core samples:\", core_samples)\n"
   ]
  },
  {
   "cell_type": "code",
   "execution_count": 4,
   "id": "3479fcb9",
   "metadata": {},
   "outputs": [],
   "source": [
    "# the above output shows that the first three points belong to one cluster, the next three points belong to another cluster, and the last point its considered noise \n",
    "# we can also get the number of clusters found by the algorithm \n",
    "# the core samples are the points that are at the center of the clusters and the labels are the cluster labels assigned to each point \n"
   ]
  },
  {
   "cell_type": "code",
   "execution_count": null,
   "id": "3df6dd95",
   "metadata": {},
   "outputs": [],
   "source": []
  }
 ],
 "metadata": {
  "kernelspec": {
   "display_name": ".venv",
   "language": "python",
   "name": "python3"
  },
  "language_info": {
   "codemirror_mode": {
    "name": "ipython",
    "version": 3
   },
   "file_extension": ".py",
   "mimetype": "text/x-python",
   "name": "python",
   "nbconvert_exporter": "python",
   "pygments_lexer": "ipython3",
   "version": "3.13.5"
  }
 },
 "nbformat": 4,
 "nbformat_minor": 5
}
