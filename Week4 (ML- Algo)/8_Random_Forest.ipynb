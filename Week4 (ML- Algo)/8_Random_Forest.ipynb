{
 "cells": [
  {
   "cell_type": "markdown",
   "id": "4b803314",
   "metadata": {},
   "source": [
    "## Random Forests\n",
    "- Random forests are an esemble learning method that combines multiple decision trees to make a more accurate and stable prediction. Each tree in the forest is trained on a random subset of tha data, andm the final prediction is made by averaging (for regression) or voting (for classification) the predictions of individual trees. this helps to reduce overfitting and imporove generalization.\n"
   ]
  },
  {
   "cell_type": "code",
   "execution_count": 3,
   "id": "b3f3d218",
   "metadata": {},
   "outputs": [],
   "source": [
    "from sklearn.ensemble import RandomForestClassifier # this is an ensemble learning method that builds multiple decision trees and mergers their predictions to improve accuracy and control overfitting \n",
    "from sklearn.model_selection import train_test_split\n",
    "from sklearn.metrics import accuracy_score, confusion_matrix\n",
    "import numpy as np  "
   ]
  },
  {
   "cell_type": "code",
   "execution_count": 4,
   "id": "db879010",
   "metadata": {},
   "outputs": [],
   "source": [
    "x = np.array([[1,50],[2,60],[3,55],[4,70],[5,65],[6,80],[7,75],[8,90],[9,85],[10,100]])\n",
    "y = np.array([0,0,0,1,1,1,1,2,2,2]) \n",
    "X_train, X_test, y_train, y_test = train_test_split(x, y, test_size=0.2, random_state=42) # split the data into training and testing sets\n",
    "\n"
   ]
  },
  {
   "cell_type": "markdown",
   "id": "a191f3d5",
   "metadata": {},
   "source": [
    "The n_estimators parameter in RandomForestClassifier specifies the number of decision trees in the forest.\n",
    "\n",
    "Higher values (e.g., 100, 200) generally improve performance and stability, but increase computation time.\n",
    "Lower values (e.g., 10, 20) make the model faster but may reduce accuracy and increase variance."
   ]
  },
  {
   "cell_type": "code",
   "execution_count": 5,
   "id": "d7c77314",
   "metadata": {},
   "outputs": [],
   "source": [
    "model = RandomForestClassifier(n_estimators=100, random_state=42) # n_estimators is the number of trees in the forest\n",
    "model.fit(X_train, y_train) # fit the model to the training data\n",
    "\n",
    "y_pred = model.predict(X_test) # make predictions on the test data\n",
    "accuracy = accuracy_score(y_test,y_pred)\n"
   ]
  },
  {
   "cell_type": "code",
   "execution_count": null,
   "id": "86354694",
   "metadata": {},
   "outputs": [],
   "source": []
  },
  {
   "cell_type": "code",
   "execution_count": 6,
   "id": "ff5a3149",
   "metadata": {},
   "outputs": [
    {
     "name": "stdout",
     "output_type": "stream",
     "text": [
      "Accuracy: 1.0\n",
      "Confusion Matrix:\n",
      " [[1 0]\n",
      " [0 1]]\n"
     ]
    }
   ],
   "source": [
    "print(\"Accuracy:\", accuracy)\n",
    "print(\"Confusion Matrix:\\n\", confusion_matrix(y_test, y_pred))"
   ]
  },
  {
   "cell_type": "code",
   "execution_count": null,
   "id": "7b6b0b4c",
   "metadata": {},
   "outputs": [],
   "source": []
  }
 ],
 "metadata": {
  "kernelspec": {
   "display_name": ".venv",
   "language": "python",
   "name": "python3"
  },
  "language_info": {
   "codemirror_mode": {
    "name": "ipython",
    "version": 3
   },
   "file_extension": ".py",
   "mimetype": "text/x-python",
   "name": "python",
   "nbconvert_exporter": "python",
   "pygments_lexer": "ipython3",
   "version": "3.13.5"
  }
 },
 "nbformat": 4,
 "nbformat_minor": 5
}
