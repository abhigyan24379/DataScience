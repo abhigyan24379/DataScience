{
 "cells": [
  {
   "cell_type": "markdown",
   "id": "c78988df",
   "metadata": {},
   "source": [
    "### Self Training\n",
    "- self-Training is a semi supervised learning approach that leverages a small labeled dataset alongside a larger unlabeled dataset. the model is initially trained on on labeled data. the confident prediction (those with high certainty ) are then added too the labeled dataset, and the process is repeated to imporve the model  "
   ]
  },
  {
   "cell_type": "code",
   "execution_count": 1,
   "id": "cf10bd3a",
   "metadata": {},
   "outputs": [],
   "source": [
    "from sklearn.ensemble import RandomForestClassifier # this is used to train the model for classification and prediction\n",
    "from sklearn.datasets import make_classification # this is used to create a synthetic dataset for testing \n",
    "from sklearn.model_selection import train_test_split\n",
    "from sklearn.metrics import accuracy_score\n",
    "import numpy as np"
   ]
  },
  {
   "cell_type": "code",
   "execution_count": 4,
   "id": "4fb22e9a",
   "metadata": {},
   "outputs": [
    {
     "name": "stdout",
     "output_type": "stream",
     "text": [
      "Accuracvy  1.0\n"
     ]
    }
   ],
   "source": [
    "x,y = make_classification(n_samples=200, n_features=5, random_state=42)\n",
    "x_labeled, x_unlabeled , y_labeled , _ = train_test_split(x,y, test_size=0.7, random_state=42)\n",
    "\n",
    "model = RandomForestClassifier(random_state=42)\n",
    "model.fit(x_labeled, y_labeled)\n",
    "\n",
    "# Initializing the model \n",
    "for _ in range(5):\n",
    "    #preict probabilities on the unlabeled data \n",
    "    probs = model.predict_proba(x_unlabeled)\n",
    "    high_confidence_idx = np.where(np.max(probs,axis=1)> 0.9)[0]\n",
    "    \n",
    "    #adding high confidence predictions to the labeled data \n",
    "    x_labeled= np.vstack([x_labeled,x_unlabeled[high_confidence_idx]])\n",
    "    y_labeled = np.hstack([y_labeled, np.argmax(probs[high_confidence_idx], axis=1)])\n",
    "    \n",
    "    #remove confident samples from th e unlabeled dataset\n",
    "    x_unlabeled = np.delete(x_unlabeled, high_confidence_idx, axis=0)\n",
    "    \n",
    "    #retrain the model\n",
    "    model.fit(x_labeled, y_labeled)\n",
    "    \n",
    "# Evaluate the model\n",
    "x_train, x_test, y_train, y_test = train_test_split(x_labeled, y_labeled, test_size=0.3, random_state=42)\n",
    "model.fit(x_train, y_train)\n",
    "\n",
    "y_pred = model.predict(x_test)\n",
    "accuracy = accuracy_score(y_test, y_pred)\n",
    "\n",
    "print(\"Accuracvy \", accuracy)    "
   ]
  },
  {
   "cell_type": "code",
   "execution_count": null,
   "id": "afa16cd2",
   "metadata": {},
   "outputs": [],
   "source": []
  }
 ],
 "metadata": {
  "kernelspec": {
   "display_name": ".venv",
   "language": "python",
   "name": "python3"
  },
  "language_info": {
   "codemirror_mode": {
    "name": "ipython",
    "version": 3
   },
   "file_extension": ".py",
   "mimetype": "text/x-python",
   "name": "python",
   "nbconvert_exporter": "python",
   "pygments_lexer": "ipython3",
   "version": "3.13.5"
  }
 },
 "nbformat": 4,
 "nbformat_minor": 5
}
