{
 "cells": [
  {
   "cell_type": "markdown",
   "id": "353216c9",
   "metadata": {},
   "source": [
    "### What is K-Nearest Neighbors(KNN)\n",
    "- knn is a simple, non-parametric classification(or regression) algorithm. it classifies new data points based on the majority class of the k-nearest points in the features space. It's particularly useful for smaller datasets where the relationships among data points can be easily visualized "
   ]
  },
  {
   "cell_type": "code",
   "execution_count": 1,
   "id": "942ec5d6",
   "metadata": {},
   "outputs": [],
   "source": [
    "import numpy as np\n",
    "from sklearn.neighbors import KNeighborsClassifier\n",
    "from sklearn.model_selection import train_test_split\n",
    "from sklearn.metrics import accuracy_score, confusion_matrix\n",
    "\n"
   ]
  },
  {
   "cell_type": "markdown",
   "id": "56fd9c81",
   "metadata": {},
   "source": [
    "-Sample data  is hour studied and prior grades vs pass/fail"
   ]
  },
  {
   "cell_type": "code",
   "execution_count": 2,
   "id": "ff8bb0cf",
   "metadata": {},
   "outputs": [],
   "source": [
    "x = np.array([[1,50],[2,60],[3,55],[4,65],[5,70],[6,75],[7,88],[8,96],[9,103],[10,120]])\n",
    "y = np.array([0,0,0,0,1,1,1,1,1,1])\n",
    "\n"
   ]
  },
  {
   "cell_type": "markdown",
   "id": "b6b42246",
   "metadata": {},
   "source": [
    "- Initialize and train the model \n",
    "- kNN is non parametric model meaning it doesnot learn a specific set of parameter,instead it stores the training data to make predictions based on the nearest neighbours x "
   ]
  },
  {
   "cell_type": "code",
   "execution_count": 3,
   "id": "c74b81a0",
   "metadata": {},
   "outputs": [],
   "source": [
    "x_train , x_test, y_train, y_test = train_test_split(x, y , test_size=0.2, random_state=42)\n",
    "model = KNeighborsClassifier(n_neighbors=3)\n",
    "model.fit(x_train,  y_train)\n",
    "\n",
    "y_pred =model.predict(x_test)\n",
    "\n",
    "accuracy = accuracy_score(y_test, y_pred)\n",
    "conf_matrix = confusion_matrix(y_test,y_pred)"
   ]
  },
  {
   "cell_type": "code",
   "execution_count": 4,
   "id": "0cc50ced",
   "metadata": {},
   "outputs": [
    {
     "name": "stdout",
     "output_type": "stream",
     "text": [
      "accuracy : 1.0\n",
      "Copnfusion Matric :  [[1 0]\n",
      " [0 1]]\n"
     ]
    }
   ],
   "source": [
    "print(\"accuracy :\" , accuracy)\n",
    "print(\"Copnfusion Matric : \", conf_matrix)"
   ]
  },
  {
   "cell_type": "code",
   "execution_count": null,
   "id": "31614ae0",
   "metadata": {},
   "outputs": [],
   "source": []
  }
 ],
 "metadata": {
  "kernelspec": {
   "display_name": ".venv",
   "language": "python",
   "name": "python3"
  },
  "language_info": {
   "codemirror_mode": {
    "name": "ipython",
    "version": 3
   },
   "file_extension": ".py",
   "mimetype": "text/x-python",
   "name": "python",
   "nbconvert_exporter": "python",
   "pygments_lexer": "ipython3",
   "version": "3.13.5"
  }
 },
 "nbformat": 4,
 "nbformat_minor": 5
}
