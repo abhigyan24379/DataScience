{
 "cells": [
  {
   "cell_type": "markdown",
   "id": "f3d904e6",
   "metadata": {},
   "source": [
    " What is logistic Regression ?\n",
    "- Logistic Regression is a supervised learning algorithm used for  binary classification prbolem(yes/no, spam/not spam). Instead of predicting a continuous output, it predicts the possibility of an observation belonging to a particular class by applying the logistic(sigmoid) function, which outputs values between 0 and 1"
   ]
  },
  {
   "cell_type": "code",
   "execution_count": 1,
   "id": "fabeaff7",
   "metadata": {},
   "outputs": [],
   "source": [
    "from sklearn.linear_model import LogisticRegression\n",
    "from sklearn.model_selection import train_test_split\n",
    "from sklearn.metrics import accuracy_score, confusion_matrix\n",
    "import numpy as np "
   ]
  },
  {
   "cell_type": "code",
   "execution_count": 2,
   "id": "b731bdae",
   "metadata": {},
   "outputs": [],
   "source": [
    "x = np.array([[1],[2],[3],[4],[5],[6],[7],[8],[9],[10]])\n",
    "y = np.array([0, 0, 0, 0, 1, 1, 1, 1, 1, 1])"
   ]
  },
  {
   "cell_type": "code",
   "execution_count": 3,
   "id": "f011dfa4",
   "metadata": {},
   "outputs": [],
   "source": [
    "x_train , x_test , y_train, y_test = train_test_split(x,y, test_size=0.2, random_state=42)"
   ]
  },
  {
   "cell_type": "markdown",
   "id": "6fd7da26",
   "metadata": {},
   "source": [
    "- Initializing and training model "
   ]
  },
  {
   "cell_type": "code",
   "execution_count": 5,
   "id": "e9377e94",
   "metadata": {},
   "outputs": [],
   "source": [
    "model = LogisticRegression()\n",
    "model.fit(x_train, y_train)\n",
    "y_pred = model.predict(x_test)"
   ]
  },
  {
   "cell_type": "markdown",
   "id": "e445b9c5",
   "metadata": {},
   "source": [
    "- evaluate the model \n",
    "- Accuracy is the ratio of correctly predicted instances to the total instances \n",
    "- Confusion matrix shows the breakdown of true positives, true negatives , false positive and false negatives"
   ]
  },
  {
   "cell_type": "code",
   "execution_count": 6,
   "id": "1d68fd72",
   "metadata": {},
   "outputs": [],
   "source": [
    "accuracy = accuracy_score(y_test, y_pred)\n",
    "conf_matrix = confusion_matrix(y_test, y_pred)\n"
   ]
  },
  {
   "cell_type": "code",
   "execution_count": 7,
   "id": "4022a7c2",
   "metadata": {},
   "outputs": [
    {
     "name": "stdout",
     "output_type": "stream",
     "text": [
      "Accuracy :  1.0\n",
      "Confusion Matrix :  [[1 0]\n",
      " [0 1]]\n"
     ]
    }
   ],
   "source": [
    "print(\"Accuracy : \", accuracy)\n",
    "print(\"Confusion Matrix : \", conf_matrix)\n",
    "\n"
   ]
  },
  {
   "cell_type": "code",
   "execution_count": null,
   "id": "be58e0ed",
   "metadata": {},
   "outputs": [],
   "source": []
  }
 ],
 "metadata": {
  "kernelspec": {
   "display_name": ".venv",
   "language": "python",
   "name": "python3"
  },
  "language_info": {
   "codemirror_mode": {
    "name": "ipython",
    "version": 3
   },
   "file_extension": ".py",
   "mimetype": "text/x-python",
   "name": "python",
   "nbconvert_exporter": "python",
   "pygments_lexer": "ipython3",
   "version": "3.13.5"
  }
 },
 "nbformat": 4,
 "nbformat_minor": 5
}
